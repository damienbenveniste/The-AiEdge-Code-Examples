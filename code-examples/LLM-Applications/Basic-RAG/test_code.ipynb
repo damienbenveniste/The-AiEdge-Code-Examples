{
 "cells": [
  {
   "cell_type": "code",
   "execution_count": 2,
   "metadata": {},
   "outputs": [],
   "source": [
    "from langchain_community.document_loaders import PyPDFLoader\n",
    "\n",
    "file_path = \"../book/ESLII.pdf\"\n",
    "\n",
    "loader = PyPDFLoader(file_path)\n",
    "\n",
    "docs = loader.load_and_split()"
   ]
  },
  {
   "cell_type": "code",
   "execution_count": 7,
   "metadata": {},
   "outputs": [
    {
     "name": "stdout",
     "output_type": "stream",
     "text": [
      "64 3. Linear Methods for Regression\n",
      "notice that the intercept β0has been left out of the penalty term. Penal-\n",
      "ization of the intercept would make the procedure depend on the origin\n",
      "chosen for Y; that is, adding a constant cto each of the targets yiwould\n",
      "not simply result in a shift of the predictions by the same amount c. It\n",
      "can be shown (Exercise 3.5) that the solution to (3.41) can be separated\n",
      "into two parts, after reparametrization using centered inputs: each xijgets\n",
      "replaced by xij−¯xj. We estimate β0by ¯y=1\n",
      "N∑N\n",
      "1yi. The remaining co-\n",
      "eﬃcients get estimated by a ridge regression without intercept, using the\n",
      "centered xij. Henceforth we assume that this centering has been done, so\n",
      "that the input matrix Xhasp(rather than p+ 1) columns.\n",
      "Writing the criterion in (3.41) in matrix form,\n",
      "RSS(λ) = (y−Xβ)T(y−Xβ) +λβTβ, (3.43)\n",
      "the ridge regression solutions are easily seen to be\n",
      "ˆβridge= (XTX+λI)−1XTy, (3.44)\n",
      "whereIis the p×pidentity matrix. Notice that with the choice of quadratic\n",
      "penalty βTβ, the ridge regression solution is again a linear function of\n",
      "y. The solution adds a positive constant to the diagonal of XTXbefore\n",
      "inversion. This makes the problem nonsingular, even if XTXis not of full\n",
      "rank, and was the main motivation for ridge regression when it was ﬁrst\n",
      "introduced in statistics (Hoerl and Kennard, 1970). Traditional descriptions\n",
      "of ridge regression start with deﬁnition (3.44). We choose to motivat e it via\n",
      "(3.41) and (3.42), as these provide insight into how it works.\n",
      "Figure 3.8 shows the ridge coeﬃcient estimates for the prostate can-\n",
      "cer example, plotted as functions of df( λ), the eﬀective degrees of freedom\n",
      "implied by the penalty λ(deﬁned in (3.50) on page 68). In the case of or-\n",
      "thonormal inputs, the ridge estimates are just a scaled version of the least\n",
      "squares estimates, that is, ˆβridge=ˆβ/(1 +λ).\n",
      "Ridge regression can also be derived as the mean or mode of a poste-\n",
      "rior distribution, with a suitably chosen prior distribution. In detail, sup-\n",
      "poseyi∼N(β0+xT\n",
      "iβ,σ2), and the parameters βjare each distributed as\n",
      "N(0,τ2), independently of one another. Then the (negative) log-posterior\n",
      "density of β, with τ2andσ2assumed known, is equal to the expression\n",
      "in curly braces in (3.41), with λ=σ2/τ2(Exercise 3.6). Thus the ridge\n",
      "estimate is the mode of the posterior distribution; since the distribution is\n",
      "Gaussian, it is also the posterior mean.\n",
      "Thesingular value decomposition (SVD) of the centered input matrix X\n",
      "gives us some additional insight into the nature of ridge regression. This de-\n",
      "composition is extremely useful in the analysis of many statistical metho ds.\n",
      "The SVD of the N×pmatrix Xhas the form\n",
      "X=UDVT. (3.45)\n"
     ]
    }
   ],
   "source": [
    "print(docs[100].page_content)"
   ]
  },
  {
   "cell_type": "code",
   "execution_count": 15,
   "metadata": {},
   "outputs": [
    {
     "data": {
      "text/plain": [
       "ChatPromptTemplate(input_variables=['doc'], input_types={}, partial_variables={}, messages=[HumanMessagePromptTemplate(prompt=PromptTemplate(input_variables=['doc'], input_types={}, partial_variables={}, template='\\nGenerate a numbered list of 5 hypothetical questions that the following document could answer:\\n\\nDOCUMENT: {doc}\\n'), additional_kwargs={})])"
      ]
     },
     "execution_count": 15,
     "metadata": {},
     "output_type": "execute_result"
    }
   ],
   "source": [
    "\n",
    "from langchain_core.prompts import ChatPromptTemplate\n",
    "import os\n",
    "\n",
    "os.environ[\"OPENAI_API_KEY\"] = OPENAI_API_KEY\n",
    "\n",
    "\n",
    "prompt_list = \"\"\"\n",
    "Generate a numbered list of 5 hypothetical questions that the following document could answer:\n",
    "\n",
    "DOCUMENT: {doc}\n",
    "\"\"\"\n",
    "\n",
    "prompt_template = ChatPromptTemplate.from_template(prompt_list)\n",
    "\n",
    "prompt_template\n"
   ]
  },
  {
   "cell_type": "code",
   "execution_count": 16,
   "metadata": {},
   "outputs": [
    {
     "data": {
      "text/plain": [
       "['What is the rationale behind excluding the intercept β0 from the penalty term in ridge regression?',\n",
       " 'How is the ridge regression solution derived in matrix form, and what is its significance?',\n",
       " 'In what way does ridge regression address issues related to singularity in the input matrix XTX?',\n",
       " 'How can ridge regression be interpreted in the context of Bayesian statistics?',\n",
       " 'What insights can be gained from the singular value decomposition (SVD) of the centered input matrix X in relation to ridge regression?']"
      ]
     },
     "execution_count": 16,
     "metadata": {},
     "output_type": "execute_result"
    }
   ],
   "source": [
    "from langchain_openai import ChatOpenAI\n",
    "from langchain_core.output_parsers import NumberedListOutputParser\n",
    "\n",
    "llm = ChatOpenAI(model='gpt-4o-mini')\n",
    "\n",
    "chain = prompt_template | llm | NumberedListOutputParser()\n",
    "\n",
    "chain.invoke({\"doc\": docs[100].page_content})"
   ]
  },
  {
   "cell_type": "code",
   "execution_count": 17,
   "metadata": {},
   "outputs": [],
   "source": [
    "from langchain_openai import OpenAIEmbeddings\n",
    "\n",
    "embeddings = OpenAIEmbeddings()"
   ]
  },
  {
   "cell_type": "code",
   "execution_count": 20,
   "metadata": {},
   "outputs": [],
   "source": [
    "vector = embeddings.embed_query('How are you?')"
   ]
  },
  {
   "cell_type": "code",
   "execution_count": 21,
   "metadata": {},
   "outputs": [
    {
     "data": {
      "text/plain": [
       "1536"
      ]
     },
     "execution_count": 21,
     "metadata": {},
     "output_type": "execute_result"
    }
   ],
   "source": [
    "len(vector)"
   ]
  },
  {
   "cell_type": "code",
   "execution_count": 24,
   "metadata": {},
   "outputs": [
    {
     "data": {
      "text/plain": [
       "{'source': '../book/ESLII.pdf', 'page': 82}"
      ]
     },
     "execution_count": 24,
     "metadata": {},
     "output_type": "execute_result"
    }
   ],
   "source": [
    "docs[100].metadata"
   ]
  },
  {
   "cell_type": "code",
   "execution_count": 26,
   "metadata": {},
   "outputs": [],
   "source": [
    "from indexing.data_indexing import DataIndexer\n",
    "\n",
    "indexer = DataIndexer()\n",
    "retriever = indexer.get_retriever()"
   ]
  },
  {
   "cell_type": "code",
   "execution_count": 41,
   "metadata": {},
   "outputs": [
    {
     "data": {
      "text/plain": [
       "[Document(id='05c49d5b-8472-4dd3-8e2a-fd9dfdf45a0b', metadata={'page': 60.0, 'source': '../book/ESLII.pdf', 'question': 'How does supervised learning differ from unsupervised learning?'}, page_content='42 2. Overview of Supervised Learning'),\n",
       " Document(id='8e2df34a-643e-4fa8-86a4-306f2c722413', metadata={'page': 604.0, 'source': '../book/ESLII.pdf', 'question': 'What are the key principles and techniques involved in unsupervised learning?'}, page_content='586 14. Unsupervised Learning'),\n",
       " Document(id='3b99846c-5681-4007-83ea-9347daab6ea4', metadata={'page': 604.0, 'source': '../book/ESLII.pdf', 'question': 'How does unsupervised learning differ from supervised learning in terms of data processing and outcomes?'}, page_content='586 14. Unsupervised Learning'),\n",
       " Document(id='35ac3ee9-10da-4ae3-9f81-202a5a8ee013', metadata={'page': 526.0, 'source': '../book/ESLII.pdf', 'question': 'What is the primary goal of the unsupervised learning approach described in the document, and how is it achieved?'}, page_content='508 14. Unsupervised Learning\\nrequired goal (details below), based on the dissimilarities d(xi,xi′) between\\nevery pair of observations. These are speciﬁed by the user as described\\nabove. Generally, the encoder C(i) is explicitly delineated by giving its\\nvalue (cluster assignment) for each observation i. Thus, the “parameters”\\nof the procedure are the individual cluster assignments for each of the N\\nobservations. These are adjusted so as to minimize a “loss” function that\\ncharacterizes the degree to which the clustering goal is notmet.\\nOne approach is to directly specify a mathematical loss function and\\nattempt to minimize it through some combinatorial optimization algorit hm.\\nSince the goal is to assign close points to the same cluster, a natural loss\\n(or “energy”) function would be\\nW(C) =1\\n2K∑\\nk=1∑\\nC(i)=k∑\\nC(i′)=kd(xi,xi′). (14.28)\\nThis criterion characterizes the extent to which observations assigned to\\nthe same cluster tend to be close to one another. It is sometimes referred\\nto as the “within cluster” point scatter since\\nT=1\\n2N∑\\ni=1N∑\\ni′=1dii′=1\\n2K∑\\nk=1∑\\nC(i)=k\\uf8eb\\n\\uf8ed∑\\nC(i′)=kdii′+∑\\nC(i′)̸=kdii′\\uf8f6\\n\\uf8f8,\\nor\\nT=W(C) +B(C),\\nwhere dii′=d(xi,xi′). Here Tis thetotalpoint scatter, which is a constant\\ngiven the data, independent of cluster assignment. The quantity\\nB(C) =1\\n2K∑\\nk=1∑\\nC(i)=k∑\\nC(i′)̸=kdii′ (14.29)\\nis the between-cluster point scatter. This will tend to be large when obser-\\nvations assigned to diﬀerent clusters are far apart. Thus one has\\nW(C) =T−B(C)\\nand minimizing W(C) is equivalent to maximizing B(C).\\nCluster analysis by combinatorial optimization is straightforward in prin-\\nciple. One simply minimizes Wor equivalently maximizes Bover all pos-\\nsible assignments of the Ndata points to Kclusters. Unfortunately, such\\noptimization by complete enumeration is feasible only for very small data\\nsets. The number of distinct assignments is (Jain and Dubes, 1988)\\nS(N,K) =1\\nK!K∑\\nk=1(−1)K−k(K\\nk)\\nkN. (14.30)\\nFor example, S(10,4) = 34 ,105 which is quite feasible. But, S(N,K) grows\\nvery rapidly with increasing values of its arguments. Already S(19,4)≃')]"
      ]
     },
     "execution_count": 41,
     "metadata": {},
     "output_type": "execute_result"
    }
   ],
   "source": [
    "docs = retriever.invoke('What is unsupervised learning?')\n",
    "\n",
    "\n",
    "docs"
   ]
  },
  {
   "cell_type": "code",
   "execution_count": 42,
   "metadata": {},
   "outputs": [
    {
     "data": {
      "text/plain": [
       "'508 14. Unsupervised Learning\\nrequired goal (details below), based on the dissimilarities d(xi,xi′) between\\nevery pair of observations. These are speciﬁed by the user as described\\nabove. Generally, the encoder C(i) is explicitly delineated by giving its\\nvalue (cluster assignment) for each observation i. Thus, the “parameters”\\nof the procedure are the individual cluster assignments for each of the N\\nobservations. These are adjusted so as to minimize a “loss” function that\\ncharacterizes the degree to which the clustering goal is notmet.\\nOne approach is to directly specify a mathematical loss function and\\nattempt to minimize it through some combinatorial optimization algorit hm.\\nSince the goal is to assign close points to the same cluster, a natural loss\\n(or “energy”) function would be\\nW(C) =1\\n2K∑\\nk=1∑\\nC(i)=k∑\\nC(i′)=kd(xi,xi′). (14.28)\\nThis criterion characterizes the extent to which observations assigned to\\nthe same cluster tend to be close to one another. It is sometimes referred\\nto as the “within cluster” point scatter since\\nT=1\\n2N∑\\ni=1N∑\\ni′=1dii′=1\\n2K∑\\nk=1∑\\nC(i)=k\\uf8eb\\n\\uf8ed∑\\nC(i′)=kdii′+∑\\nC(i′)̸=kdii′\\uf8f6\\n\\uf8f8,\\nor\\nT=W(C) +B(C),\\nwhere dii′=d(xi,xi′). Here Tis thetotalpoint scatter, which is a constant\\ngiven the data, independent of cluster assignment. The quantity\\nB(C) =1\\n2K∑\\nk=1∑\\nC(i)=k∑\\nC(i′)̸=kdii′ (14.29)\\nis the between-cluster point scatter. This will tend to be large when obser-\\nvations assigned to diﬀerent clusters are far apart. Thus one has\\nW(C) =T−B(C)\\nand minimizing W(C) is equivalent to maximizing B(C).\\nCluster analysis by combinatorial optimization is straightforward in prin-\\nciple. One simply minimizes Wor equivalently maximizes Bover all pos-\\nsible assignments of the Ndata points to Kclusters. Unfortunately, such\\noptimization by complete enumeration is feasible only for very small data\\nsets. The number of distinct assignments is (Jain and Dubes, 1988)\\nS(N,K) =1\\nK!K∑\\nk=1(−1)K−k(K\\nk)\\nkN. (14.30)\\nFor example, S(10,4) = 34 ,105 which is quite feasible. But, S(N,K) grows\\nvery rapidly with increasing values of its arguments. Already S(19,4)≃'"
      ]
     },
     "execution_count": 42,
     "metadata": {},
     "output_type": "execute_result"
    }
   ],
   "source": [
    "docs[3].page_content"
   ]
  },
  {
   "cell_type": "code",
   "execution_count": 45,
   "metadata": {},
   "outputs": [
    {
     "name": "stdout",
     "output_type": "stream",
     "text": [
      "Machine learning is a subset of artificial intelligence that involves the use of algorithms and statistical models to enable computers to perform tasks without explicit programming. It allows systems to learn from data, identify patterns, and make predictions or decisions. Essentially, machine learning focuses on developing methods that give computers the ability to learn and improve from experience.\n"
     ]
    }
   ],
   "source": [
    "\n",
    "SYSTEM_PROMPT = \"\"\"\n",
    "You are an assistant for question-answering tasks.\n",
    "Use the following pieces of retrieved context to answer the question. \n",
    "If you don't know the answer, say that you don't know. \n",
    "Use three sentences maximum and keep the answer concise.\n",
    "\n",
    "{context}\n",
    "\"\"\"\n",
    "\n",
    "HUMAN_PROMPT = \"QUESTION: {question}\"\n",
    "\n",
    "model = ChatOpenAI(model='gpt-4o-mini')\n",
    "\n",
    "prompt = ChatPromptTemplate.from_messages([\n",
    "    ('system', SYSTEM_PROMPT),\n",
    "    ('human', HUMAN_PROMPT)\n",
    "])\n",
    "\n",
    "\n",
    "rag_chain = (\n",
    "    prompt \n",
    "    | model\n",
    ")\n",
    "\n",
    "print(rag_chain.invoke({'context': \"this is my context\", \"question\":\"What is machine learning?\"}).content)"
   ]
  },
  {
   "cell_type": "code",
   "execution_count": 48,
   "metadata": {},
   "outputs": [
    {
     "name": "stdout",
     "output_type": "stream",
     "text": [
      "42 2. Overview of Supervised Learning\n",
      "\n",
      "388 10. Boosting and Additive Trees\n",
      "\n",
      "This is page 1\n",
      "Printer: Opaque this\n",
      "1\n",
      "Introduction\n",
      "Statistical learning plays a key role in many areas of science, ﬁnance and\n",
      "industry. Here are some examples of learning problems:\n",
      "•Predict whether a patient, hospitalized due to a heart attack, will\n",
      "have a second heart attack. The prediction is to be based on demo-\n",
      "graphic, diet and clinical measurements for that patient.\n",
      "•Predict the price of a stock in 6 months from now, on the basis of\n",
      "company performance measures and economic data.\n",
      "•Identify the numbers in a handwritten ZIP code, from a digitized\n",
      "image.\n",
      "•Estimate the amount of glucose in the blood of a diabetic person,\n",
      "from the infrared absorption spectrum of that person’s blood.\n",
      "•Identify the risk factors for prostate cancer, based on clinical and\n",
      "demographic variables.\n",
      "The science of learning plays a key role in the ﬁelds of statistics, data\n",
      "mining and artiﬁcial intelligence, intersecting with areas of engineering and\n",
      "other disciplines.\n",
      "This book is about learning from data. In a typical scenario, we have\n",
      "an outcome measurement, usually quantitative (such as a stock price) or\n",
      "categorical (such as heart attack/no heart attack), that we wish to predict\n",
      "based on a set of features (such as diet and clinical measurements). We\n",
      "have a training set of data, in which we observe the outcome and feature\n",
      "\n",
      "586 14. Unsupervised Learning\n"
     ]
    }
   ],
   "source": [
    "def format_context(docs):\n",
    "    return '\\n\\n'.join([doc.page_content for doc in docs])\n",
    "\n",
    "print(format_context(retriever.invoke('What is machine learning?')))"
   ]
  },
  {
   "cell_type": "code",
   "execution_count": 49,
   "metadata": {},
   "outputs": [],
   "source": [
    "from pydantic import BaseModel\n",
    "\n",
    "class UserInput(BaseModel):\n",
    "    input: str\n"
   ]
  },
  {
   "cell_type": "code",
   "execution_count": 58,
   "metadata": {},
   "outputs": [],
   "source": [
    "user_input = UserInput(**{'input': \"What is machine learning\"})"
   ]
  },
  {
   "cell_type": "code",
   "execution_count": 59,
   "metadata": {},
   "outputs": [
    {
     "data": {
      "text/plain": [
       "UserInput(input='What is machine learning')"
      ]
     },
     "execution_count": 59,
     "metadata": {},
     "output_type": "execute_result"
    }
   ],
   "source": [
    "user_input"
   ]
  },
  {
   "cell_type": "code",
   "execution_count": 60,
   "metadata": {},
   "outputs": [],
   "source": [
    "rag_chain = (\n",
    "    {\n",
    "        'context': lambda x: format_context(retriever.invoke(x['input'])),\n",
    "        'question': lambda x: x['input']\n",
    "    }\n",
    "    | prompt \n",
    "    | model\n",
    ").with_types(input_type=UserInput)"
   ]
  },
  {
   "cell_type": "code",
   "execution_count": 62,
   "metadata": {},
   "outputs": [
    {
     "data": {
      "text/plain": [
       "AIMessage(content='Machine learning is a field of study that focuses on the development of algorithms and models that enable computers to learn from and make predictions or decisions based on data. It involves using statistical techniques to identify patterns and relationships in data, allowing for predictions about future outcomes. Machine learning intersects with various disciplines, including statistics, data mining, and artificial intelligence.', additional_kwargs={'refusal': None}, response_metadata={'token_usage': {'completion_tokens': 68, 'prompt_tokens': 383, 'total_tokens': 451, 'completion_tokens_details': {'reasoning_tokens': 0}}, 'model_name': 'gpt-4o-mini-2024-07-18', 'system_fingerprint': 'fp_1bb46167f9', 'finish_reason': 'stop', 'logprobs': None}, id='run-fe1c41b6-befc-4198-a7d5-71cef9fbb68d-0', usage_metadata={'input_tokens': 383, 'output_tokens': 68, 'total_tokens': 451})"
      ]
     },
     "execution_count": 62,
     "metadata": {},
     "output_type": "execute_result"
    }
   ],
   "source": [
    "rag_chain.invoke({'input': \"What is machine learning\"})"
   ]
  },
  {
   "cell_type": "code",
   "execution_count": 67,
   "metadata": {},
   "outputs": [
    {
     "name": "stdout",
     "output_type": "stream",
     "text": [
      "I'm just a computer program, so I don't have feelings, but I'm here and ready to help you! How can I assist you today?"
     ]
    }
   ],
   "source": [
    "from langserve import RemoteRunnable\n",
    "\n",
    "remote_chain = RemoteRunnable('http://localhost:8000/openai')\n",
    "\n",
    "stream = remote_chain.stream('How are you?')\n",
    "\n",
    "for chunk in stream:\n",
    "    print(chunk.content, end='')"
   ]
  },
  {
   "cell_type": "code",
   "execution_count": 73,
   "metadata": {},
   "outputs": [
    {
     "name": "stdout",
     "output_type": "stream",
     "text": [
      "\"Estimate the misclassiﬁcation errors using ﬁvefold cross-validation, and compare the error rate curves to those in 1.\""
     ]
    }
   ],
   "source": [
    "from langserve import RemoteRunnable\n",
    "\n",
    "remote_rag_chain = RemoteRunnable('http://localhost:8000/rag')\n",
    "\n",
    "stream = remote_rag_chain.stream({'input': 'How to crossvalidate k-NN'})\n",
    "\n",
    "for chunk in stream:\n",
    "    print(chunk.content, end='')"
   ]
  },
  {
   "cell_type": "code",
   "execution_count": null,
   "metadata": {},
   "outputs": [],
   "source": []
  }
 ],
 "metadata": {
  "kernelspec": {
   "display_name": "myenv",
   "language": "python",
   "name": "python3"
  },
  "language_info": {
   "codemirror_mode": {
    "name": "ipython",
    "version": 3
   },
   "file_extension": ".py",
   "mimetype": "text/x-python",
   "name": "python",
   "nbconvert_exporter": "python",
   "pygments_lexer": "ipython3",
   "version": "3.12.6"
  }
 },
 "nbformat": 4,
 "nbformat_minor": 2
}
