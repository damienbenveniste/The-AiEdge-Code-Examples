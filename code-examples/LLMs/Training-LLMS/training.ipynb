{
 "cells": [
  {
   "cell_type": "markdown",
   "id": "8cf915ae",
   "metadata": {},
   "source": [
    "# Pretraining"
   ]
  },
  {
   "cell_type": "code",
   "execution_count": null,
   "id": "ff222205",
   "metadata": {},
   "outputs": [],
   "source": [
    "%pip install torch transformers[torch] datasets ipywidgets trl"
   ]
  },
  {
   "cell_type": "markdown",
   "id": "fee02162",
   "metadata": {},
   "source": [
    "I am downloading a very small subset of the Wikipeda dataset just for demonstration purposes"
   ]
  },
  {
   "cell_type": "code",
   "execution_count": 126,
   "id": "ffb2f095",
   "metadata": {},
   "outputs": [
    {
     "data": {
      "application/vnd.jupyter.widget-view+json": {
       "model_id": "d1c78407acba4e7ea96692b40c16d748",
       "version_major": 2,
       "version_minor": 0
      },
      "text/plain": [
       "Resolving data files:   0%|          | 0/41 [00:00<?, ?it/s]"
      ]
     },
     "metadata": {},
     "output_type": "display_data"
    }
   ],
   "source": [
    "from datasets import load_dataset\n",
    "\n",
    "wiki_data = load_dataset(\n",
    "    \"wikimedia/wikipedia\",   \n",
    "    \"20231101.en\", \n",
    "    split=\"train[:1000]\"\n",
    ")"
   ]
  },
  {
   "cell_type": "code",
   "execution_count": 127,
   "id": "c710519e",
   "metadata": {
    "scrolled": true
   },
   "outputs": [
    {
     "name": "stdout",
     "output_type": "stream",
     "text": [
      "Anarchism is a political philosophy and movement that is skeptical of all justifications for authority and seeks to abolish the institutions it claims maintain unnecessary coercion and hierarchy, typically including nation-states, and capitalism. Anarchism advocates for the replacement of the state with stateless societies and voluntary free associations. As a historically left-wing movement, this reading of anarchism is placed on the farthest left of the political spectrum, usually described as the libertarian wing of the socialist movement (libertarian socialism).\n",
      "\n",
      "Humans have lived in societies without formal hierarchies long before the establishment of states, realms, or empires. With the rise of organised hierarchical bodies, scepticism toward authority also rose. Although traces of anarchist ideas are found all throughout history, modern anarchism emerged from the Enlightenment. During the latter half of the 19th and the first decades of the 20th century, the anarchist movement f\n"
     ]
    }
   ],
   "source": [
    "print(wiki_data['text'][0][:1000])"
   ]
  },
  {
   "cell_type": "markdown",
   "id": "0e48d1b8",
   "metadata": {},
   "source": [
    "Let's split the data into train and test"
   ]
  },
  {
   "cell_type": "code",
   "execution_count": 2,
   "id": "acf23413",
   "metadata": {},
   "outputs": [],
   "source": [
    "wiki_data = wiki_data.train_test_split(test_size=0.2)"
   ]
  },
  {
   "cell_type": "code",
   "execution_count": 10,
   "id": "6ce79e42",
   "metadata": {},
   "outputs": [
    {
     "data": {
      "text/plain": [
       "DatasetDict({\n",
       "    train: Dataset({\n",
       "        features: ['id', 'url', 'title', 'text'],\n",
       "        num_rows: 800\n",
       "    })\n",
       "    test: Dataset({\n",
       "        features: ['id', 'url', 'title', 'text'],\n",
       "        num_rows: 200\n",
       "    })\n",
       "})"
      ]
     },
     "execution_count": 10,
     "metadata": {},
     "output_type": "execute_result"
    }
   ],
   "source": [
    "wiki_data"
   ]
  },
  {
   "cell_type": "markdown",
   "id": "45c686c7",
   "metadata": {},
   "source": [
    "I am going to train a model from scratch I am going to use the Mistral architecture as base. I will use the same tokenize to move from text data to the input index data"
   ]
  },
  {
   "cell_type": "code",
   "execution_count": 3,
   "id": "2d8d737e",
   "metadata": {},
   "outputs": [],
   "source": [
    "from transformers import AutoTokenizer\n",
    "\n",
    "base_model_id = 'mistralai/Mistral-7B-v0.1'\n",
    "tokenizer = AutoTokenizer.from_pretrained(base_model_id)\n",
    "tokenizer.pad_token = tokenizer.eos_token"
   ]
  },
  {
   "cell_type": "markdown",
   "id": "407c26dc",
   "metadata": {},
   "source": [
    "The padding token was missing"
   ]
  },
  {
   "cell_type": "code",
   "execution_count": 5,
   "id": "0b4d65d5",
   "metadata": {},
   "outputs": [
    {
     "data": {
      "text/plain": [
       "{'bos_token': '<s>',\n",
       " 'eos_token': '</s>',\n",
       " 'unk_token': '<unk>',\n",
       " 'pad_token': '</s>'}"
      ]
     },
     "execution_count": 5,
     "metadata": {},
     "output_type": "execute_result"
    }
   ],
   "source": [
    "tokenizer.special_tokens_map"
   ]
  },
  {
   "cell_type": "markdown",
   "id": "354fdc29",
   "metadata": {},
   "source": [
    "Tokenizing the data is easy"
   ]
  },
  {
   "cell_type": "code",
   "execution_count": 4,
   "id": "674133a8",
   "metadata": {},
   "outputs": [],
   "source": [
    "outputs = tokenizer(\n",
    "    wiki_data['train']['text'][0:10],\n",
    ")"
   ]
  },
  {
   "cell_type": "code",
   "execution_count": 4,
   "id": "a5ddaa71",
   "metadata": {},
   "outputs": [
    {
     "data": {
      "application/vnd.jupyter.widget-view+json": {
       "model_id": "9835c3d441fc4c89aaaa493539d247f3",
       "version_major": 2,
       "version_minor": 0
      },
      "text/plain": [
       "Map:   0%|          | 0/800 [00:00<?, ? examples/s]"
      ]
     },
     "metadata": {},
     "output_type": "display_data"
    },
    {
     "data": {
      "application/vnd.jupyter.widget-view+json": {
       "model_id": "b393ec087a4c4dad9ea7fc42d1c1fa37",
       "version_major": 2,
       "version_minor": 0
      },
      "text/plain": [
       "Map:   0%|          | 0/200 [00:00<?, ? examples/s]"
      ]
     },
     "metadata": {},
     "output_type": "display_data"
    }
   ],
   "source": [
    "max_length = 512\n",
    "\n",
    "def tokenize_function(examples):\n",
    "    return tokenizer(\n",
    "        examples['text'], \n",
    "        truncation=True, \n",
    "        max_length=max_length, \n",
    "        padding='max_length', # longuest \n",
    "        return_tensors=\"pt\", \n",
    "        add_special_tokens=True\n",
    "    )\n",
    "\n",
    "tokenized_datasets = wiki_data.map(\n",
    "    tokenize_function, \n",
    "    batched=True, \n",
    "    remove_columns=['id', 'url', 'title', 'text']\n",
    ")"
   ]
  },
  {
   "cell_type": "code",
   "execution_count": 32,
   "id": "c00e0cb8",
   "metadata": {},
   "outputs": [
    {
     "data": {
      "text/plain": [
       "'left'"
      ]
     },
     "execution_count": 32,
     "metadata": {},
     "output_type": "execute_result"
    }
   ],
   "source": [
    "tokenizer.padding_side"
   ]
  },
  {
   "cell_type": "code",
   "execution_count": 36,
   "id": "b3550acf",
   "metadata": {},
   "outputs": [
    {
     "data": {
      "text/plain": [
       "2"
      ]
     },
     "execution_count": 36,
     "metadata": {},
     "output_type": "execute_result"
    }
   ],
   "source": [
    "tokenizer.pad_token_id"
   ]
  },
  {
   "cell_type": "code",
   "execution_count": 5,
   "id": "03c42751",
   "metadata": {},
   "outputs": [],
   "source": [
    "from transformers import MistralForCausalLM, MistralConfig\n",
    "config = MistralConfig()"
   ]
  },
  {
   "cell_type": "code",
   "execution_count": 39,
   "id": "5ce668ef",
   "metadata": {},
   "outputs": [
    {
     "data": {
      "text/plain": [
       "MistralConfig {\n",
       "  \"attention_dropout\": 0.0,\n",
       "  \"bos_token_id\": 1,\n",
       "  \"eos_token_id\": 2,\n",
       "  \"head_dim\": 128,\n",
       "  \"hidden_act\": \"silu\",\n",
       "  \"hidden_size\": 4096,\n",
       "  \"initializer_range\": 0.02,\n",
       "  \"intermediate_size\": 14336,\n",
       "  \"max_position_embeddings\": 131072,\n",
       "  \"model_type\": \"mistral\",\n",
       "  \"num_attention_heads\": 32,\n",
       "  \"num_hidden_layers\": 32,\n",
       "  \"num_key_value_heads\": 8,\n",
       "  \"rms_norm_eps\": 1e-06,\n",
       "  \"rope_theta\": 10000.0,\n",
       "  \"sliding_window\": 4096,\n",
       "  \"tie_word_embeddings\": false,\n",
       "  \"transformers_version\": \"4.44.2\",\n",
       "  \"use_cache\": true,\n",
       "  \"vocab_size\": 32000\n",
       "}"
      ]
     },
     "execution_count": 39,
     "metadata": {},
     "output_type": "execute_result"
    }
   ],
   "source": [
    "config"
   ]
  },
  {
   "cell_type": "code",
   "execution_count": 6,
   "id": "a6a47039",
   "metadata": {},
   "outputs": [],
   "source": [
    "config = MistralConfig(\n",
    "    hidden_size=768,\n",
    "    sliding_window=768,\n",
    "    intermediate_size=3072,\n",
    "    max_position_embeddings=max_length,\n",
    "    num_attention_heads=16,  \n",
    "    num_hidden_layers=4,\n",
    ")"
   ]
  },
  {
   "cell_type": "code",
   "execution_count": 7,
   "id": "d20326b6",
   "metadata": {},
   "outputs": [],
   "source": [
    "model = MistralForCausalLM(config)"
   ]
  },
  {
   "cell_type": "code",
   "execution_count": 9,
   "id": "cad5a4cf",
   "metadata": {},
   "outputs": [
    {
     "data": {
      "text/plain": [
       "MistralForCausalLM(\n",
       "  (model): MistralModel(\n",
       "    (embed_tokens): Embedding(32000, 768)\n",
       "    (layers): ModuleList(\n",
       "      (0-3): 4 x MistralDecoderLayer(\n",
       "        (self_attn): MistralSdpaAttention(\n",
       "          (q_proj): Linear(in_features=768, out_features=768, bias=False)\n",
       "          (k_proj): Linear(in_features=768, out_features=384, bias=False)\n",
       "          (v_proj): Linear(in_features=768, out_features=384, bias=False)\n",
       "          (o_proj): Linear(in_features=768, out_features=768, bias=False)\n",
       "          (rotary_emb): MistralRotaryEmbedding()\n",
       "        )\n",
       "        (mlp): MistralMLP(\n",
       "          (gate_proj): Linear(in_features=768, out_features=3072, bias=False)\n",
       "          (up_proj): Linear(in_features=768, out_features=3072, bias=False)\n",
       "          (down_proj): Linear(in_features=3072, out_features=768, bias=False)\n",
       "          (act_fn): SiLU()\n",
       "        )\n",
       "        (input_layernorm): MistralRMSNorm((768,), eps=1e-06)\n",
       "        (post_attention_layernorm): MistralRMSNorm((768,), eps=1e-06)\n",
       "      )\n",
       "    )\n",
       "    (norm): MistralRMSNorm((768,), eps=1e-06)\n",
       "  )\n",
       "  (lm_head): Linear(in_features=768, out_features=32000, bias=False)\n",
       ")"
      ]
     },
     "execution_count": 9,
     "metadata": {},
     "output_type": "execute_result"
    }
   ],
   "source": [
    "model"
   ]
  },
  {
   "cell_type": "code",
   "execution_count": 8,
   "id": "0e9fa6a9",
   "metadata": {},
   "outputs": [
    {
     "data": {
      "text/plain": [
       "84548352"
      ]
     },
     "execution_count": 8,
     "metadata": {},
     "output_type": "execute_result"
    }
   ],
   "source": [
    "model_size = sum(t.numel() for t in model.parameters())\n",
    "model_size"
   ]
  },
  {
   "cell_type": "code",
   "execution_count": 8,
   "id": "69854059",
   "metadata": {},
   "outputs": [],
   "source": [
    "from transformers import DataCollatorForLanguageModeling\n",
    "\n",
    "data_collator = DataCollatorForLanguageModeling(tokenizer, mlm=False)\n"
   ]
  },
  {
   "cell_type": "code",
   "execution_count": 11,
   "id": "a2759ccc",
   "metadata": {},
   "outputs": [],
   "source": [
    "out = data_collator([\n",
    "    tokenized_datasets[\"train\"][i] for i in range(10)\n",
    "])"
   ]
  },
  {
   "cell_type": "code",
   "execution_count": 53,
   "id": "225f32cc",
   "metadata": {
    "scrolled": true
   },
   "outputs": [
    {
     "data": {
      "text/plain": [
       "tensor([    1,   415, 17965,   302,   272,   334,  8722,   440, 28725,   835,\n",
       "         2651,   390,   272, 17965,   302,   272,  3735,   321,  2557,   442,\n",
       "          272, 17965,   302,  2499, 28725,   349,   396,  1524, 17634,  7761,\n",
       "          298,   347,   272,  1080, 21079,   312,   577,   302,   272,  6532,\n",
       "         3387, 28725,   690,   349,  5397,   390,   264, 12602,  8118, 28725,\n",
       "         6823,   297,  7972,  5014, 28725,   395,   396, 16252,  1999,  5682,\n",
       "        16006,  1987,   272, 25856,  7278, 28723,  6586,   298,   272,  5737,\n",
       "          302,  1529,   350,   381, 28725,   272, 17965, 10932,   272,   989,\n",
       "         7253,  2401,  1074,   302,   272, 11819, 11618,  1339, 28723,  6586,\n",
       "          298,   272,  1450, 26870,  5737,   302,   650,  2152,  6420, 28725,\n",
       "          378,   835, 10932, 20486, 28742, 28713, 16439,   304,   264,  2513,\n",
       "          302,   676,  1520, 28723,    13,    13,  1014,   287, 26896,  2708,\n",
       "         1016,  1002,   369, 10870,   624,   879,  1024,   272,  6532,  3387,\n",
       "        28742,   439,   350,   381,   477, 10529, 28725,   272, 17965,   403,\n",
       "         3859,  4771,   298,   272,  5340,  2078,   298, 26625,   486,  2499,\n",
       "          739,   272,  6532,  3387,   654,  2524, 16734,   438,   272,  3331,\n",
       "          302,  7612,   318,  1380, 28710, 28723,  1387,  7792, 28725,   272,\n",
       "         5014, 28733,   452,   601,  1183, 12990,  8118,   403,  7158,   486,\n",
       "          871,   341,  3410,   486,   272, 10249,  3387, 10870, 28705, 28750,\n",
       "        28725, 28734, 28734, 28734, 13563,  1046,   325,  9035,  5152,  1999,\n",
       "         1143,   297,  8670,   302,   272,   905,   739,   356,   272, 11853,\n",
       "        28723,  2499,  7310,   395, 26625,   345,  3211,  1444,   272,   989,\n",
       "        18707,   437,   321, 28739,   356,   272, 17965, 28742, 28713,  2796,\n",
       "        28723,    13,    13, 28760, 26896,  2708,    13,    13,  8151,  3112,\n",
       "          304,  5436,    13,  5604,  3059,   298,   272,  5737,   302,  1529,\n",
       "          350,   381, 28725,  2499, 12317,   286, 26625,   298,  1813,   272,\n",
       "        17965,  1938,   516, 28705, 28781, 28734, 28733,  1466,  3079,  3714,\n",
       "         7612,   318,  1380, 28710, 28723,   650,   403,  4894,   272,  5340,\n",
       "          354,   272,  7683,  1173,  7338,   304,  8556,   789,   742,   302,\n",
       "          272, 17965, 28725,   304,  2240,   369,   378,   682,   347,  1269,\n",
       "          302,   480,   785,   321,  4768,   325, 18033,  2651,   390,  1183,\n",
       "        12990,  4768, 28731,   298,  2134,   272,  7582,  1074,   302, 11775,\n",
       "        28723, 26625, 12317,   286, 22627,   282,   301,   304,   330,  5236,\n",
       "        28710,   375,   298,  5122,   272, 17965, 28723,    13,    13,  1014,\n",
       "         5737,   302,  1529,   350,   381,  5212, 10537, 11382,   356,   910,\n",
       "          272, 17965,   349,   298,   347, 13379, 28723,   661,   349,   298,\n",
       "          347, 28705, 13563,  1046,   297,  3575, 28725, 28705, 13563,  1046,\n",
       "        10714,   362, 28725,   304, 28705, 13563,  1046,  5110,   325,  9035,\n",
       "         5152,  1999,  1143,   302,  1183, 12990,  4768, 28723,  2479,   378,\n",
       "          349,   298,   347,   319,   666,   286,  8134,   395,  5014, 28725,\n",
       "          304,   264, 22718,   442, 20880,   288,   302,  5014,   349,   298,\n",
       "          347,  1658,  1401,   378, 28723,  9611, 18947,   302,  5014,   460,\n",
       "          298,   347, 11053,   298,   871,  2308, 19897, 28725,   989,   356,\n",
       "         1430,  2081, 28821,   391,  1059,  1167, 18947,   341,  3410,   302,\n",
       "          480,   785,   321,  4768,   754,  2220,   313,   395,  5014,   354,\n",
       "        10839,   272, 17965,   460,   298,   347, 23511, 28745,   304,  1167,\n",
       "          460,   459,   298,   347,  6747, 28723,    13,    13, 23090,   363,\n",
       "         2374,   488,    13,  1014,   287, 26896,  2708, 10352,   369, 28725,\n",
       "         1024,   871,  9313,   486, 26625, 28725,   272, 17965,   403,  7158,\n",
       "          486,   272,  6532,  3387,  1938,   652, 28705, 28781, 28734,  1267,\n",
       "          302, 15533,  2131,   297,   272, 13453, 28723, 27235,   272,  6532,\n",
       "         3387,  2791])"
      ]
     },
     "execution_count": 53,
     "metadata": {},
     "output_type": "execute_result"
    }
   ],
   "source": [
    "out['input_ids'][0]"
   ]
  },
  {
   "cell_type": "code",
   "execution_count": 54,
   "id": "5c2bfcde",
   "metadata": {
    "scrolled": true
   },
   "outputs": [
    {
     "data": {
      "text/plain": [
       "tensor([    1,   415, 17965,   302,   272,   334,  8722,   440, 28725,   835,\n",
       "         2651,   390,   272, 17965,   302,   272,  3735,   321,  2557,   442,\n",
       "          272, 17965,   302,  2499, 28725,   349,   396,  1524, 17634,  7761,\n",
       "          298,   347,   272,  1080, 21079,   312,   577,   302,   272,  6532,\n",
       "         3387, 28725,   690,   349,  5397,   390,   264, 12602,  8118, 28725,\n",
       "         6823,   297,  7972,  5014, 28725,   395,   396, 16252,  1999,  5682,\n",
       "        16006,  1987,   272, 25856,  7278, 28723,  6586,   298,   272,  5737,\n",
       "          302,  1529,   350,   381, 28725,   272, 17965, 10932,   272,   989,\n",
       "         7253,  2401,  1074,   302,   272, 11819, 11618,  1339, 28723,  6586,\n",
       "          298,   272,  1450, 26870,  5737,   302,   650,  2152,  6420, 28725,\n",
       "          378,   835, 10932, 20486, 28742, 28713, 16439,   304,   264,  2513,\n",
       "          302,   676,  1520, 28723,    13,    13,  1014,   287, 26896,  2708,\n",
       "         1016,  1002,   369, 10870,   624,   879,  1024,   272,  6532,  3387,\n",
       "        28742,   439,   350,   381,   477, 10529, 28725,   272, 17965,   403,\n",
       "         3859,  4771,   298,   272,  5340,  2078,   298, 26625,   486,  2499,\n",
       "          739,   272,  6532,  3387,   654,  2524, 16734,   438,   272,  3331,\n",
       "          302,  7612,   318,  1380, 28710, 28723,  1387,  7792, 28725,   272,\n",
       "         5014, 28733,   452,   601,  1183, 12990,  8118,   403,  7158,   486,\n",
       "          871,   341,  3410,   486,   272, 10249,  3387, 10870, 28705, 28750,\n",
       "        28725, 28734, 28734, 28734, 13563,  1046,   325,  9035,  5152,  1999,\n",
       "         1143,   297,  8670,   302,   272,   905,   739,   356,   272, 11853,\n",
       "        28723,  2499,  7310,   395, 26625,   345,  3211,  1444,   272,   989,\n",
       "        18707,   437,   321, 28739,   356,   272, 17965, 28742, 28713,  2796,\n",
       "        28723,    13,    13, 28760, 26896,  2708,    13,    13,  8151,  3112,\n",
       "          304,  5436,    13,  5604,  3059,   298,   272,  5737,   302,  1529,\n",
       "          350,   381, 28725,  2499, 12317,   286, 26625,   298,  1813,   272,\n",
       "        17965,  1938,   516, 28705, 28781, 28734, 28733,  1466,  3079,  3714,\n",
       "         7612,   318,  1380, 28710, 28723,   650,   403,  4894,   272,  5340,\n",
       "          354,   272,  7683,  1173,  7338,   304,  8556,   789,   742,   302,\n",
       "          272, 17965, 28725,   304,  2240,   369,   378,   682,   347,  1269,\n",
       "          302,   480,   785,   321,  4768,   325, 18033,  2651,   390,  1183,\n",
       "        12990,  4768, 28731,   298,  2134,   272,  7582,  1074,   302, 11775,\n",
       "        28723, 26625, 12317,   286, 22627,   282,   301,   304,   330,  5236,\n",
       "        28710,   375,   298,  5122,   272, 17965, 28723,    13,    13,  1014,\n",
       "         5737,   302,  1529,   350,   381,  5212, 10537, 11382,   356,   910,\n",
       "          272, 17965,   349,   298,   347, 13379, 28723,   661,   349,   298,\n",
       "          347, 28705, 13563,  1046,   297,  3575, 28725, 28705, 13563,  1046,\n",
       "        10714,   362, 28725,   304, 28705, 13563,  1046,  5110,   325,  9035,\n",
       "         5152,  1999,  1143,   302,  1183, 12990,  4768, 28723,  2479,   378,\n",
       "          349,   298,   347,   319,   666,   286,  8134,   395,  5014, 28725,\n",
       "          304,   264, 22718,   442, 20880,   288,   302,  5014,   349,   298,\n",
       "          347,  1658,  1401,   378, 28723,  9611, 18947,   302,  5014,   460,\n",
       "          298,   347, 11053,   298,   871,  2308, 19897, 28725,   989,   356,\n",
       "         1430,  2081, 28821,   391,  1059,  1167, 18947,   341,  3410,   302,\n",
       "          480,   785,   321,  4768,   754,  2220,   313,   395,  5014,   354,\n",
       "        10839,   272, 17965,   460,   298,   347, 23511, 28745,   304,  1167,\n",
       "          460,   459,   298,   347,  6747, 28723,    13,    13, 23090,   363,\n",
       "         2374,   488,    13,  1014,   287, 26896,  2708, 10352,   369, 28725,\n",
       "         1024,   871,  9313,   486, 26625, 28725,   272, 17965,   403,  7158,\n",
       "          486,   272,  6532,  3387,  1938,   652, 28705, 28781, 28734,  1267,\n",
       "          302, 15533,  2131,   297,   272, 13453, 28723, 27235,   272,  6532,\n",
       "         3387,  2791])"
      ]
     },
     "execution_count": 54,
     "metadata": {},
     "output_type": "execute_result"
    }
   ],
   "source": [
    "out['labels'][0]"
   ]
  },
  {
   "cell_type": "code",
   "execution_count": 9,
   "id": "4c7f2d6a",
   "metadata": {},
   "outputs": [
    {
     "data": {
      "application/vnd.jupyter.widget-view+json": {
       "model_id": "d637c857d796447ca66b6f0b9bbde463",
       "version_major": 2,
       "version_minor": 0
      },
      "text/plain": [
       "VBox(children=(HTML(value='<center> <img\\nsrc=https://huggingface.co/front/assets/huggingface_logo-noborder.sv…"
      ]
     },
     "metadata": {},
     "output_type": "display_data"
    },
    {
     "name": "stderr",
     "output_type": "stream",
     "text": [
      "huggingface/tokenizers: The current process just got forked, after parallelism has already been used. Disabling parallelism to avoid deadlocks...\n",
      "To disable this warning, you can either:\n",
      "\t- Avoid using `tokenizers` before the fork if possible\n",
      "\t- Explicitly set the environment variable TOKENIZERS_PARALLELISM=(true | false)\n",
      "huggingface/tokenizers: The current process just got forked, after parallelism has already been used. Disabling parallelism to avoid deadlocks...\n",
      "To disable this warning, you can either:\n",
      "\t- Avoid using `tokenizers` before the fork if possible\n",
      "\t- Explicitly set the environment variable TOKENIZERS_PARALLELISM=(true | false)\n",
      "huggingface/tokenizers: The current process just got forked, after parallelism has already been used. Disabling parallelism to avoid deadlocks...\n",
      "To disable this warning, you can either:\n",
      "\t- Avoid using `tokenizers` before the fork if possible\n",
      "\t- Explicitly set the environment variable TOKENIZERS_PARALLELISM=(true | false)\n"
     ]
    }
   ],
   "source": [
    "from huggingface_hub import notebook_login\n",
    "\n",
    "notebook_login()"
   ]
  },
  {
   "cell_type": "code",
   "execution_count": 10,
   "id": "c4134610",
   "metadata": {},
   "outputs": [
    {
     "data": {
      "application/vnd.jupyter.widget-view+json": {
       "model_id": "121ace6388ff475099acbbf24c10fe32",
       "version_major": 2,
       "version_minor": 0
      },
      "text/plain": [
       "  0%|          | 0/800 [00:00<?, ?it/s]"
      ]
     },
     "metadata": {},
     "output_type": "display_data"
    },
    {
     "name": "stdout",
     "output_type": "stream",
     "text": [
      "{'loss': 7.2598, 'grad_norm': 2.867016553878784, 'learning_rate': 1.8750000000000002e-05, 'epoch': 0.62}\n",
      "{'train_runtime': 47.2311, 'train_samples_per_second': 16.938, 'train_steps_per_second': 16.938, 'train_loss': 7.013702392578125, 'epoch': 1.0}\n"
     ]
    },
    {
     "data": {
      "text/plain": [
       "TrainOutput(global_step=800, training_loss=7.013702392578125, metrics={'train_runtime': 47.2311, 'train_samples_per_second': 16.938, 'train_steps_per_second': 16.938, 'total_flos': 147388052275200.0, 'train_loss': 7.013702392578125, 'epoch': 1.0})"
      ]
     },
     "execution_count": 10,
     "metadata": {},
     "output_type": "execute_result"
    }
   ],
   "source": [
    "from transformers import Trainer, TrainingArguments\n",
    "\n",
    "args = TrainingArguments(\n",
    "    output_dir=\"mistral-pretraining\",\n",
    "    per_device_train_batch_size=1,\n",
    "    per_device_eval_batch_size=1,\n",
    "    num_train_epochs=1,\n",
    "    push_to_hub=True,\n",
    "    report_to=\"none\", \n",
    ")\n",
    "\n",
    "trainer = Trainer(\n",
    "    model=model,\n",
    "    tokenizer=tokenizer,\n",
    "    args=args,\n",
    "    data_collator=data_collator,\n",
    "    train_dataset=tokenized_datasets[\"train\"],\n",
    "    eval_dataset=tokenized_datasets[\"test\"],\n",
    ")\n",
    "\n",
    "trainer.train()"
   ]
  },
  {
   "cell_type": "code",
   "execution_count": 12,
   "id": "7ea35bc2",
   "metadata": {},
   "outputs": [
    {
     "data": {
      "text/plain": [
       "device(type='mps', index=0)"
      ]
     },
     "execution_count": 12,
     "metadata": {},
     "output_type": "execute_result"
    }
   ],
   "source": [
    "model.device"
   ]
  },
  {
   "cell_type": "code",
   "execution_count": 11,
   "id": "7b2314ed",
   "metadata": {},
   "outputs": [
    {
     "data": {
      "application/vnd.jupyter.widget-view+json": {
       "model_id": "ac4d44bbe3614402971fbe33085a6184",
       "version_major": 2,
       "version_minor": 0
      },
      "text/plain": [
       "model.safetensors:   0%|          | 0.00/338M [00:00<?, ?B/s]"
      ]
     },
     "metadata": {},
     "output_type": "display_data"
    },
    {
     "data": {
      "text/plain": [
       "CommitInfo(commit_url='https://huggingface.co/damienbenveniste/mistral-pretraining/commit/42c53fd5a2cc2606719c7dc08db5b7b4d64e8d41', commit_message='End of training', commit_description='', oid='42c53fd5a2cc2606719c7dc08db5b7b4d64e8d41', pr_url=None, pr_revision=None, pr_num=None)"
      ]
     },
     "execution_count": 11,
     "metadata": {},
     "output_type": "execute_result"
    }
   ],
   "source": [
    "trainer.push_to_hub()"
   ]
  },
  {
   "cell_type": "code",
   "execution_count": 12,
   "id": "9b5a01e5",
   "metadata": {},
   "outputs": [
    {
     "data": {
      "application/vnd.jupyter.widget-view+json": {
       "model_id": "ef5fcd7b6e9b4d0293bd4ef0dd823dab",
       "version_major": 2,
       "version_minor": 0
      },
      "text/plain": [
       "config.json:   0%|          | 0.00/605 [00:00<?, ?B/s]"
      ]
     },
     "metadata": {},
     "output_type": "display_data"
    },
    {
     "data": {
      "application/vnd.jupyter.widget-view+json": {
       "model_id": "6247be407dc8413685024b04719e339c",
       "version_major": 2,
       "version_minor": 0
      },
      "text/plain": [
       "model.safetensors:   0%|          | 0.00/338M [00:00<?, ?B/s]"
      ]
     },
     "metadata": {},
     "output_type": "display_data"
    },
    {
     "data": {
      "application/vnd.jupyter.widget-view+json": {
       "model_id": "0f4398386c7146edaaf4b0b861df2a57",
       "version_major": 2,
       "version_minor": 0
      },
      "text/plain": [
       "generation_config.json:   0%|          | 0.00/111 [00:00<?, ?B/s]"
      ]
     },
     "metadata": {},
     "output_type": "display_data"
    },
    {
     "data": {
      "application/vnd.jupyter.widget-view+json": {
       "model_id": "be7a6937688f49e9babca5593efe0532",
       "version_major": 2,
       "version_minor": 0
      },
      "text/plain": [
       "tokenizer_config.json:   0%|          | 0.00/998 [00:00<?, ?B/s]"
      ]
     },
     "metadata": {},
     "output_type": "display_data"
    },
    {
     "data": {
      "application/vnd.jupyter.widget-view+json": {
       "model_id": "3c381f906ddd4d9aab7eb1e3c748e644",
       "version_major": 2,
       "version_minor": 0
      },
      "text/plain": [
       "tokenizer.model:   0%|          | 0.00/493k [00:00<?, ?B/s]"
      ]
     },
     "metadata": {},
     "output_type": "display_data"
    },
    {
     "data": {
      "application/vnd.jupyter.widget-view+json": {
       "model_id": "a56d6aeea0284550a8ad0f41185bace4",
       "version_major": 2,
       "version_minor": 0
      },
      "text/plain": [
       "tokenizer.json:   0%|          | 0.00/1.80M [00:00<?, ?B/s]"
      ]
     },
     "metadata": {},
     "output_type": "display_data"
    },
    {
     "data": {
      "application/vnd.jupyter.widget-view+json": {
       "model_id": "f0f1c2e1806f4818a36e959d97fe602b",
       "version_major": 2,
       "version_minor": 0
      },
      "text/plain": [
       "special_tokens_map.json:   0%|          | 0.00/437 [00:00<?, ?B/s]"
      ]
     },
     "metadata": {},
     "output_type": "display_data"
    },
    {
     "name": "stderr",
     "output_type": "stream",
     "text": [
      "Hardware accelerator e.g. GPU is available in the environment, but no `device` argument is passed to the `Pipeline` object. Model will be on CPU.\n",
      "/Users/damienbenveniste/Projects/Teaching/The-AiEdge-Code-Examples/myenv/lib/python3.12/site-packages/transformers/generation/utils.py:1258: UserWarning: Using the model-agnostic default `max_length` (=20) to control the generation length. We recommend setting `max_new_tokens` to control the maximum length of the generation.\n",
      "  warnings.warn(\n"
     ]
    },
    {
     "data": {
      "text/plain": [
       "[{'generated_text': 'How are you? (1111111) 11111'}]"
      ]
     },
     "execution_count": 12,
     "metadata": {},
     "output_type": "execute_result"
    }
   ],
   "source": [
    "from transformers import pipeline\n",
    "\n",
    "model_id = \"damienbenveniste/mistral-pretraining\"\n",
    "pipe = pipeline(\"text-generation\", model=model_id)\n",
    "txt = \"How are you?\"\n",
    "pipe(txt, num_return_sequences=1)"
   ]
  },
  {
   "cell_type": "code",
   "execution_count": 15,
   "id": "53ea25ee",
   "metadata": {},
   "outputs": [
    {
     "data": {
      "text/plain": [
       "[{'generated_text': 'generated_text (; 198198198) was a '}]"
      ]
     },
     "execution_count": 15,
     "metadata": {},
     "output_type": "execute_result"
    }
   ],
   "source": [
    "txt = \"generated_text\"\n",
    "pipe(txt)"
   ]
  },
  {
   "cell_type": "markdown",
   "id": "c3000b91",
   "metadata": {},
   "source": [
    "# Supervised Learning Fine-tuning"
   ]
  },
  {
   "cell_type": "code",
   "execution_count": 16,
   "id": "456fceaa",
   "metadata": {},
   "outputs": [],
   "source": [
    "dataset = load_dataset(\"tatsu-lab/alpaca\", split=\"train[:1000]\")"
   ]
  },
  {
   "cell_type": "code",
   "execution_count": 20,
   "id": "fb8c33b7",
   "metadata": {},
   "outputs": [
    {
     "data": {
      "text/plain": [
       "'Give three tips for staying healthy.'"
      ]
     },
     "execution_count": 20,
     "metadata": {},
     "output_type": "execute_result"
    }
   ],
   "source": [
    "dataset['instruction'][0]"
   ]
  },
  {
   "cell_type": "code",
   "execution_count": 17,
   "id": "fd8d6fa0",
   "metadata": {},
   "outputs": [
    {
     "name": "stdout",
     "output_type": "stream",
     "text": [
      "Below is an instruction that describes a task. Write a response that appropriately completes the request.\n",
      "\n",
      "### Instruction:\n",
      "Give three tips for staying healthy.\n",
      "\n",
      "### Response:\n",
      "1.Eat a balanced diet and make sure to include plenty of fruits and vegetables. \n",
      "2. Exercise regularly to keep your body active and strong. \n",
      "3. Get enough sleep and maintain a consistent sleep schedule.\n"
     ]
    }
   ],
   "source": [
    "out = dataset[0]['text']\n",
    "print(out)"
   ]
  },
  {
   "cell_type": "code",
   "execution_count": 21,
   "id": "e6077bfc",
   "metadata": {},
   "outputs": [],
   "source": [
    "from transformers import AutoModelForCausalLM, AutoTokenizer\n",
    "\n",
    "model_id = \"damienbenveniste/mistral-pretraining\"\n",
    "model = AutoModelForCausalLM.from_pretrained(model_id)\n",
    "tokenizer = AutoTokenizer.from_pretrained(model_id)"
   ]
  },
  {
   "cell_type": "code",
   "execution_count": 23,
   "id": "32ad4c71",
   "metadata": {},
   "outputs": [],
   "source": [
    "model.config.pad_token_id"
   ]
  },
  {
   "cell_type": "code",
   "execution_count": 25,
   "id": "8ccfc785",
   "metadata": {
    "scrolled": true
   },
   "outputs": [
    {
     "data": {
      "text/plain": [
       "{'input_ids': tensor([[    1, 20811,   349,   396, 13126,   369, 13966,   264,  3638, 28723,\n",
       "         12018,   264,  2899,   369,  6582,  1999,  2691,   274,   272,  2159,\n",
       "         28723,    13,    13, 27332,  3133,  3112, 28747,    13,  3195,   460,\n",
       "           272,  1712,  6258,  9304, 28804,    13,    13, 27332, 12107, 28747,\n",
       "            13,  1014,  1712,  6258,  9304,   460,  2760, 28725,  5045, 28725,\n",
       "           304,  9684, 28723]]), 'attention_mask': tensor([[1, 1, 1, 1, 1, 1, 1, 1, 1, 1, 1, 1, 1, 1, 1, 1, 1, 1, 1, 1, 1, 1, 1, 1,\n",
       "         1, 1, 1, 1, 1, 1, 1, 1, 1, 1, 1, 1, 1, 1, 1, 1, 1, 1, 1, 1, 1, 1, 1, 1,\n",
       "         1, 1, 1, 1, 1]]), 'labels': tensor([[ -100,  -100,  -100,  -100,  -100,  -100,  -100,  -100,  -100,  -100,\n",
       "          -100,  -100,  -100,  -100,  -100,  -100,  -100,  -100,  -100,  -100,\n",
       "          -100,  -100,  -100,  -100,  -100,  -100,  -100,  -100,  -100,  -100,\n",
       "          -100,  -100,  -100,  -100,  -100,  -100,  -100,  -100,  -100,  -100,\n",
       "            13,  1014,  1712,  6258,  9304,   460,  2760, 28725,  5045, 28725,\n",
       "           304,  9684, 28723]])}"
      ]
     },
     "execution_count": 25,
     "metadata": {},
     "output_type": "execute_result"
    }
   ],
   "source": [
    "from trl import DataCollatorForCompletionOnlyLM\n",
    "\n",
    "response_template = \"### Response:\"\n",
    "response_template_ids = tokenizer.encode(response_template, add_special_tokens=False)[2:]  # Now we have it like in the dataset texts: `[2277, 29937, 4007, 22137, 29901]`\n",
    "\n",
    "data_collator = DataCollatorForCompletionOnlyLM(response_template_ids, tokenizer=tokenizer)\n"
   ]
  },
  {
   "cell_type": "code",
   "execution_count": 27,
   "id": "82956979",
   "metadata": {},
   "outputs": [
    {
     "name": "stdout",
     "output_type": "stream",
     "text": [
      "Below is an instruction that describes a task. Write a response that appropriately completes the request.\n",
      "\n",
      "### Instruction:\n",
      "What are the three primary colors?\n",
      "\n",
      "### Response:\n",
      "The three primary colors are red, blue, and yellow.\n"
     ]
    }
   ],
   "source": [
    "print(dataset['text'][1])"
   ]
  },
  {
   "cell_type": "code",
   "execution_count": 28,
   "id": "8191a856",
   "metadata": {},
   "outputs": [
    {
     "data": {
      "text/plain": [
       "{'input_ids': tensor([[    1, 20811,   349,   396, 13126,   369, 13966,   264,  3638, 28723,\n",
       "         12018,   264,  2899,   369,  6582,  1999,  2691,   274,   272,  2159,\n",
       "         28723,    13,    13, 27332,  3133,  3112, 28747,    13,  3195,   460,\n",
       "           272,  1712,  6258,  9304, 28804,    13,    13, 27332, 12107, 28747,\n",
       "            13,  1014,  1712,  6258,  9304,   460,  2760, 28725,  5045, 28725,\n",
       "           304,  9684, 28723]]), 'attention_mask': tensor([[1, 1, 1, 1, 1, 1, 1, 1, 1, 1, 1, 1, 1, 1, 1, 1, 1, 1, 1, 1, 1, 1, 1, 1,\n",
       "         1, 1, 1, 1, 1, 1, 1, 1, 1, 1, 1, 1, 1, 1, 1, 1, 1, 1, 1, 1, 1, 1, 1, 1,\n",
       "         1, 1, 1, 1, 1]]), 'labels': tensor([[ -100,  -100,  -100,  -100,  -100,  -100,  -100,  -100,  -100,  -100,\n",
       "          -100,  -100,  -100,  -100,  -100,  -100,  -100,  -100,  -100,  -100,\n",
       "          -100,  -100,  -100,  -100,  -100,  -100,  -100,  -100,  -100,  -100,\n",
       "          -100,  -100,  -100,  -100,  -100,  -100,  -100,  -100,  -100,  -100,\n",
       "            13,  1014,  1712,  6258,  9304,   460,  2760, 28725,  5045, 28725,\n",
       "           304,  9684, 28723]])}"
      ]
     },
     "execution_count": 28,
     "metadata": {},
     "output_type": "execute_result"
    }
   ],
   "source": [
    "tokenized = tokenizer(\n",
    "    dataset['text'][1], \n",
    ")\n",
    "\n",
    "data_collator([tokenized])"
   ]
  },
  {
   "cell_type": "code",
   "execution_count": 34,
   "id": "6a3e5a58",
   "metadata": {},
   "outputs": [
    {
     "name": "stderr",
     "output_type": "stream",
     "text": [
      "/Users/damienbenveniste/Projects/Teaching/The-AiEdge-Code-Examples/myenv/lib/python3.12/site-packages/huggingface_hub/utils/_deprecation.py:100: FutureWarning: Deprecated argument(s) used in '__init__': dataset_text_field. Will not be supported from version '1.0.0'.\n",
      "\n",
      "Deprecated positional argument(s) used in SFTTrainer, please use the SFTConfig to set these arguments instead.\n",
      "  warnings.warn(message, FutureWarning)\n",
      "/Users/damienbenveniste/Projects/Teaching/The-AiEdge-Code-Examples/myenv/lib/python3.12/site-packages/trl/trainer/sft_trainer.py:318: UserWarning: You passed a `dataset_text_field` argument to the SFTTrainer, the value you passed will override the one in the `SFTConfig`.\n",
      "  warnings.warn(\n"
     ]
    },
    {
     "data": {
      "application/vnd.jupyter.widget-view+json": {
       "model_id": "b2447762b72f408c8ec26085aca369dd",
       "version_major": 2,
       "version_minor": 0
      },
      "text/plain": [
       "Map:   0%|          | 0/1000 [00:00<?, ? examples/s]"
      ]
     },
     "metadata": {},
     "output_type": "display_data"
    },
    {
     "name": "stderr",
     "output_type": "stream",
     "text": [
      "/Users/damienbenveniste/Projects/Teaching/The-AiEdge-Code-Examples/myenv/lib/python3.12/site-packages/trl/trainer/sft_trainer.py:408: UserWarning: You passed a tokenizer with `padding_side` not equal to `right` to the SFTTrainer. This might lead to some unexpected behaviour due to overflow issues when training a model in half-precision. You might consider adding `tokenizer.padding_side = 'right'` to your code.\n",
      "  warnings.warn(\n"
     ]
    },
    {
     "data": {
      "application/vnd.jupyter.widget-view+json": {
       "model_id": "96623bd101744384a46b6da223227185",
       "version_major": 2,
       "version_minor": 0
      },
      "text/plain": [
       "  0%|          | 0/125 [00:00<?, ?it/s]"
      ]
     },
     "metadata": {},
     "output_type": "display_data"
    },
    {
     "name": "stdout",
     "output_type": "stream",
     "text": [
      "{'train_runtime': 51.8778, 'train_samples_per_second': 19.276, 'train_steps_per_second': 2.41, 'train_loss': 6.7959267578125, 'epoch': 1.0}\n"
     ]
    },
    {
     "data": {
      "text/plain": [
       "TrainOutput(global_step=125, training_loss=6.7959267578125, metrics={'train_runtime': 51.8778, 'train_samples_per_second': 19.276, 'train_steps_per_second': 2.41, 'total_flos': 75815608061952.0, 'train_loss': 6.7959267578125, 'epoch': 1.0})"
      ]
     },
     "execution_count": 34,
     "metadata": {},
     "output_type": "execute_result"
    }
   ],
   "source": [
    "from trl import SFTTrainer, SFTConfig\n",
    "\n",
    "args = SFTConfig(\n",
    "    output_dir=\"mistral-supervised\",\n",
    "    dataset_text_field=\"text\",\n",
    "    max_seq_length=512,\n",
    "    num_train_epochs=1,\n",
    "    push_to_hub=True,\n",
    "    report_to=\"none\", \n",
    ")\n",
    "\n",
    "# args = TrainingArguments(\n",
    "#     output_dir=\"mistral-supervised\",\n",
    "#     num_train_epochs=1,\n",
    "#     push_to_hub=True,\n",
    "#     report_to=\"none\", \n",
    "# )\n",
    "\n",
    "trainer = SFTTrainer(\n",
    "    model,\n",
    "    args=args,\n",
    "    tokenizer=tokenizer,\n",
    "    train_dataset=dataset,\n",
    "    data_collator=data_collator,\n",
    "    # dataset_text_field='text',  \n",
    "    # max_seq_length=512, \n",
    ")\n",
    "\n",
    "trainer.train()"
   ]
  },
  {
   "cell_type": "code",
   "execution_count": 35,
   "id": "a3c1ce3b",
   "metadata": {},
   "outputs": [
    {
     "data": {
      "text/plain": [
       "CommitInfo(commit_url='https://huggingface.co/damienbenveniste/mistral-supervised/commit/1bc70e67403782b7c354ee506c08ce3daf6f2760', commit_message='End of training', commit_description='', oid='1bc70e67403782b7c354ee506c08ce3daf6f2760', pr_url=None, pr_revision=None, pr_num=None)"
      ]
     },
     "execution_count": 35,
     "metadata": {},
     "output_type": "execute_result"
    }
   ],
   "source": [
    "trainer.push_to_hub()"
   ]
  },
  {
   "cell_type": "markdown",
   "id": "1524441e",
   "metadata": {},
   "source": [
    "# RLHF"
   ]
  },
  {
   "cell_type": "code",
   "execution_count": 36,
   "id": "71532fe6",
   "metadata": {},
   "outputs": [
    {
     "data": {
      "application/vnd.jupyter.widget-view+json": {
       "model_id": "2ef18800c21b412c8727d8180c22a35b",
       "version_major": 2,
       "version_minor": 0
      },
      "text/plain": [
       "Downloading readme:   0%|          | 0.00/5.77k [00:00<?, ?B/s]"
      ]
     },
     "metadata": {},
     "output_type": "display_data"
    },
    {
     "data": {
      "application/vnd.jupyter.widget-view+json": {
       "model_id": "c3bb1495353b4edfac3162ded206ab89",
       "version_major": 2,
       "version_minor": 0
      },
      "text/plain": [
       "Downloading data:   0%|          | 0.00/13.2M [00:00<?, ?B/s]"
      ]
     },
     "metadata": {},
     "output_type": "display_data"
    },
    {
     "data": {
      "application/vnd.jupyter.widget-view+json": {
       "model_id": "91749a0611734a6ea93435d392cfab44",
       "version_major": 2,
       "version_minor": 0
      },
      "text/plain": [
       "Downloading data:   0%|          | 0.00/16.2M [00:00<?, ?B/s]"
      ]
     },
     "metadata": {},
     "output_type": "display_data"
    },
    {
     "data": {
      "application/vnd.jupyter.widget-view+json": {
       "model_id": "efc179fc33c6414a8472f16cdb3b4276",
       "version_major": 2,
       "version_minor": 0
      },
      "text/plain": [
       "Downloading data:   0%|          | 0.00/20.1M [00:00<?, ?B/s]"
      ]
     },
     "metadata": {},
     "output_type": "display_data"
    },
    {
     "data": {
      "application/vnd.jupyter.widget-view+json": {
       "model_id": "5e50fd7336c845b9b628131df738fa5c",
       "version_major": 2,
       "version_minor": 0
      },
      "text/plain": [
       "Downloading data:   0%|          | 0.00/25.7M [00:00<?, ?B/s]"
      ]
     },
     "metadata": {},
     "output_type": "display_data"
    },
    {
     "data": {
      "application/vnd.jupyter.widget-view+json": {
       "model_id": "5b41d40407c644868734f8879b28bc74",
       "version_major": 2,
       "version_minor": 0
      },
      "text/plain": [
       "Downloading data:   0%|          | 0.00/743k [00:00<?, ?B/s]"
      ]
     },
     "metadata": {},
     "output_type": "display_data"
    },
    {
     "data": {
      "application/vnd.jupyter.widget-view+json": {
       "model_id": "da81a28b55af4e38af0fb7408b7fa34f",
       "version_major": 2,
       "version_minor": 0
      },
      "text/plain": [
       "Downloading data:   0%|          | 0.00/875k [00:00<?, ?B/s]"
      ]
     },
     "metadata": {},
     "output_type": "display_data"
    },
    {
     "data": {
      "application/vnd.jupyter.widget-view+json": {
       "model_id": "26c834c283b54989bf6769cd734c0461",
       "version_major": 2,
       "version_minor": 0
      },
      "text/plain": [
       "Downloading data:   0%|          | 0.00/1.05M [00:00<?, ?B/s]"
      ]
     },
     "metadata": {},
     "output_type": "display_data"
    },
    {
     "data": {
      "application/vnd.jupyter.widget-view+json": {
       "model_id": "6282a7a0d57b4de99f8468a9cf0a89e7",
       "version_major": 2,
       "version_minor": 0
      },
      "text/plain": [
       "Downloading data:   0%|          | 0.00/1.36M [00:00<?, ?B/s]"
      ]
     },
     "metadata": {},
     "output_type": "display_data"
    },
    {
     "data": {
      "application/vnd.jupyter.widget-view+json": {
       "model_id": "cde8c41df0d647b7aeea39e88f847043",
       "version_major": 2,
       "version_minor": 0
      },
      "text/plain": [
       "Generating train split:   0%|          | 0/160800 [00:00<?, ? examples/s]"
      ]
     },
     "metadata": {},
     "output_type": "display_data"
    },
    {
     "data": {
      "application/vnd.jupyter.widget-view+json": {
       "model_id": "d4aef0a46fe2454dabe2a825dc191689",
       "version_major": 2,
       "version_minor": 0
      },
      "text/plain": [
       "Generating test split:   0%|          | 0/8552 [00:00<?, ? examples/s]"
      ]
     },
     "metadata": {},
     "output_type": "display_data"
    }
   ],
   "source": [
    "dataset = load_dataset(\"Anthropic/hh-rlhf\", split='train[:1000]')"
   ]
  },
  {
   "cell_type": "code",
   "execution_count": 40,
   "id": "78db3887",
   "metadata": {},
   "outputs": [
    {
     "data": {
      "text/plain": [
       "\"\\n\\nHuman: What are some cuss words in english?\\n\\nAssistant: Here’s an incomplete list.\\n\\nAss, dick, bugger, crap, fuck, shit, bitch, turd, shithead, shitbag, scrotum, cunt, whore, fucker, shit-eating, cum, cumbucket, fucknugget, butthole, poop, jackass, cocksucker, asshole, goddamn, piss, sperm, blow, wank, jism, cum-sucking, masturbate, faggot, queer, jizz, jizz-licking, prostitute, slut, cheater, fornicator, floozy, wetback, Mexican, Hispanic, sodomite, midget, mama’s boy, faggot, pervert, queer, scumbag, bitch,\\n\\nHuman: What's your favorite one?\\n\\nAssistant: I haven't even thought about it.\""
      ]
     },
     "execution_count": 40,
     "metadata": {},
     "output_type": "execute_result"
    }
   ],
   "source": [
    "dataset['chosen'][0]"
   ]
  },
  {
   "cell_type": "code",
   "execution_count": 117,
   "id": "4cec565f",
   "metadata": {},
   "outputs": [
    {
     "name": "stdout",
     "output_type": "stream",
     "text": [
      "\n",
      "\n",
      "Human: What kind of noises did dinosaurs make?\n",
      "\n",
      "Assistant: Humans and dinosaurs didn’t live at the same time, so it’s really hard to say. The best place to find out what noises dinosaurs made would be\n",
      "\n",
      "Human: yes they did\n",
      "\n",
      "Assistant: to guess, and that would probably require lots of reading and a certain amount of imagination, so we’re not really prepared to do that.\n",
      "\n",
      "Human: you cant read\n",
      "\n",
      "Assistant: there’s a lot of stuff humans don’t know\n"
     ]
    }
   ],
   "source": [
    "print(dataset[1]['rejected'])"
   ]
  },
  {
   "cell_type": "code",
   "execution_count": 41,
   "id": "f4b0a9a2",
   "metadata": {
    "scrolled": true
   },
   "outputs": [
    {
     "data": {
      "application/vnd.jupyter.widget-view+json": {
       "model_id": "a5109eafe76144adbddd2722ce9007d2",
       "version_major": 2,
       "version_minor": 0
      },
      "text/plain": [
       "Map:   0%|          | 0/1000 [00:00<?, ? examples/s]"
      ]
     },
     "metadata": {},
     "output_type": "display_data"
    }
   ],
   "source": [
    "def preprocess_function(examples):\n",
    "    new_examples = {\n",
    "        \"input_ids_chosen\": [],\n",
    "        \"attention_mask_chosen\": [],\n",
    "        \"input_ids_rejected\": [],\n",
    "        \"attention_mask_rejected\": [],\n",
    "    }\n",
    "    for chosen, rejected in zip(examples[\"chosen\"], examples[\"rejected\"]):\n",
    "        tokenized_chosen = tokenizer(chosen)\n",
    "        tokenized_rejected = tokenizer(rejected)\n",
    "\n",
    "        new_examples[\"input_ids_chosen\"].append(tokenized_chosen[\"input_ids\"])\n",
    "        new_examples[\"attention_mask_chosen\"].append(tokenized_chosen[\"attention_mask\"])\n",
    "        new_examples[\"input_ids_rejected\"].append(tokenized_rejected[\"input_ids\"])\n",
    "        new_examples[\"attention_mask_rejected\"].append(tokenized_rejected[\"attention_mask\"])\n",
    "\n",
    "    return new_examples\n",
    "\n",
    "tokenized_data = dataset.map(\n",
    "    preprocess_function,\n",
    "    batched=True,\n",
    ")"
   ]
  },
  {
   "cell_type": "code",
   "execution_count": 42,
   "id": "e08568fc",
   "metadata": {},
   "outputs": [
    {
     "data": {
      "application/vnd.jupyter.widget-view+json": {
       "model_id": "8e053691f09f403a8535b29423fb45e1",
       "version_major": 2,
       "version_minor": 0
      },
      "text/plain": [
       "config.json:   0%|          | 0.00/664 [00:00<?, ?B/s]"
      ]
     },
     "metadata": {},
     "output_type": "display_data"
    },
    {
     "data": {
      "application/vnd.jupyter.widget-view+json": {
       "model_id": "c0a0b833056f4769bfe470f8538757dc",
       "version_major": 2,
       "version_minor": 0
      },
      "text/plain": [
       "model.safetensors:   0%|          | 0.00/338M [00:00<?, ?B/s]"
      ]
     },
     "metadata": {},
     "output_type": "display_data"
    },
    {
     "name": "stderr",
     "output_type": "stream",
     "text": [
      "Some weights of MistralForSequenceClassification were not initialized from the model checkpoint at damienbenveniste/mistral-supervised and are newly initialized: ['score.weight']\n",
      "You should probably TRAIN this model on a down-stream task to be able to use it for predictions and inference.\n"
     ]
    },
    {
     "data": {
      "application/vnd.jupyter.widget-view+json": {
       "model_id": "a564eb4293404d23ae2db1bb81b234ea",
       "version_major": 2,
       "version_minor": 0
      },
      "text/plain": [
       "tokenizer_config.json:   0%|          | 0.00/1.19k [00:00<?, ?B/s]"
      ]
     },
     "metadata": {},
     "output_type": "display_data"
    },
    {
     "data": {
      "application/vnd.jupyter.widget-view+json": {
       "model_id": "f863f3a411904a6f84ed90c387c32962",
       "version_major": 2,
       "version_minor": 0
      },
      "text/plain": [
       "tokenizer.model:   0%|          | 0.00/493k [00:00<?, ?B/s]"
      ]
     },
     "metadata": {},
     "output_type": "display_data"
    },
    {
     "data": {
      "application/vnd.jupyter.widget-view+json": {
       "model_id": "095dfcf7e0e2449bb374ddf396110c7f",
       "version_major": 2,
       "version_minor": 0
      },
      "text/plain": [
       "tokenizer.json:   0%|          | 0.00/1.80M [00:00<?, ?B/s]"
      ]
     },
     "metadata": {},
     "output_type": "display_data"
    },
    {
     "data": {
      "application/vnd.jupyter.widget-view+json": {
       "model_id": "cba79133aedf497eafc08fb8d60507ba",
       "version_major": 2,
       "version_minor": 0
      },
      "text/plain": [
       "added_tokens.json:   0%|          | 0.00/21.0 [00:00<?, ?B/s]"
      ]
     },
     "metadata": {},
     "output_type": "display_data"
    },
    {
     "data": {
      "application/vnd.jupyter.widget-view+json": {
       "model_id": "acfdd69f967c42458b0c5235378ea9c4",
       "version_major": 2,
       "version_minor": 0
      },
      "text/plain": [
       "special_tokens_map.json:   0%|          | 0.00/551 [00:00<?, ?B/s]"
      ]
     },
     "metadata": {},
     "output_type": "display_data"
    }
   ],
   "source": [
    "from transformers import AutoModelForSequenceClassification, AutoTokenizer\n",
    "\n",
    "model_id = 'damienbenveniste/mistral-supervised'\n",
    "\n",
    "reward_model = AutoModelForSequenceClassification.from_pretrained(model_id)\n",
    "tokenizer = AutoTokenizer.from_pretrained(model_id)"
   ]
  },
  {
   "cell_type": "code",
   "execution_count": 44,
   "id": "325aec79",
   "metadata": {},
   "outputs": [],
   "source": [
    "reward_model.config.pad_token_id = tokenizer.pad_token_id"
   ]
  },
  {
   "cell_type": "code",
   "execution_count": 45,
   "id": "5df8571b",
   "metadata": {
    "scrolled": true
   },
   "outputs": [
    {
     "name": "stderr",
     "output_type": "stream",
     "text": [
      "/Users/damienbenveniste/Projects/Teaching/The-AiEdge-Code-Examples/myenv/lib/python3.12/site-packages/trl/trainer/reward_trainer.py:175: UserWarning: When using RewardDataCollatorWithPadding, you should set `max_length` in RewardConfig. It will be set to `512` by default, but you should do it yourself in the future.\n",
      "  warnings.warn(\n",
      "/Users/damienbenveniste/Projects/Teaching/The-AiEdge-Code-Examples/myenv/lib/python3.12/site-packages/trl/trainer/reward_trainer.py:192: UserWarning: When using RewardDataCollatorWithPadding, you should set `remove_unused_columns=False` in your RewardConfig we have set it for you, but you should do it yourself in the future.\n",
      "  warnings.warn(\n"
     ]
    },
    {
     "data": {
      "application/vnd.jupyter.widget-view+json": {
       "model_id": "b2d4cfdd3835435687a19c0c9b8c33b7",
       "version_major": 2,
       "version_minor": 0
      },
      "text/plain": [
       "  0%|          | 0/125 [00:00<?, ?it/s]"
      ]
     },
     "metadata": {},
     "output_type": "display_data"
    },
    {
     "name": "stderr",
     "output_type": "stream",
     "text": [
      "You're using a LlamaTokenizerFast tokenizer. Please note that with a fast tokenizer, using the `__call__` method is faster than using a method to encode the text followed by a call to the `pad` method to get a padded encoding.\n",
      "/Users/damienbenveniste/Projects/Teaching/The-AiEdge-Code-Examples/myenv/lib/python3.12/site-packages/transformers/tokenization_utils_base.py:2888: UserWarning: `max_length` is ignored when `padding`=`True` and there is no truncation strategy. To pad to max length, use `padding='max_length'`.\n",
      "  warnings.warn(\n",
      "Could not estimate the number of tokens of the input, floating-point operations will not be computed\n"
     ]
    },
    {
     "name": "stdout",
     "output_type": "stream",
     "text": [
      "{'train_runtime': 264.7644, 'train_samples_per_second': 3.777, 'train_steps_per_second': 0.472, 'train_loss': 0.691390380859375, 'epoch': 1.0}\n"
     ]
    },
    {
     "data": {
      "text/plain": [
       "TrainOutput(global_step=125, training_loss=0.691390380859375, metrics={'train_runtime': 264.7644, 'train_samples_per_second': 3.777, 'train_steps_per_second': 0.472, 'total_flos': 0.0, 'train_loss': 0.691390380859375, 'epoch': 1.0})"
      ]
     },
     "execution_count": 45,
     "metadata": {},
     "output_type": "execute_result"
    }
   ],
   "source": [
    "from trl import RewardTrainer, RewardConfig\n",
    "\n",
    "reward_config = RewardConfig(\n",
    "    output_dir=\"mistral-reward\",\n",
    "    num_train_epochs=1,\n",
    "    push_to_hub=True,\n",
    "    report_to=\"none\",\n",
    ")\n",
    "\n",
    "trainer = RewardTrainer(\n",
    "    model=reward_model,\n",
    "    tokenizer=tokenizer,\n",
    "    args=reward_config,\n",
    "    train_dataset=tokenized_data,\n",
    ")\n",
    "\n",
    "trainer.train()"
   ]
  },
  {
   "cell_type": "code",
   "execution_count": 46,
   "id": "e48f5bc9",
   "metadata": {},
   "outputs": [
    {
     "data": {
      "text/plain": [
       "CommitInfo(commit_url='https://huggingface.co/damienbenveniste/mistral-reward/commit/31eb9311b9728a6b27c0a5e4f09afa668dabcf58', commit_message='End of training', commit_description='', oid='31eb9311b9728a6b27c0a5e4f09afa668dabcf58', pr_url=None, pr_revision=None, pr_num=None)"
      ]
     },
     "execution_count": 46,
     "metadata": {},
     "output_type": "execute_result"
    }
   ],
   "source": [
    "trainer.push_to_hub()"
   ]
  },
  {
   "cell_type": "markdown",
   "id": "398d12ef",
   "metadata": {},
   "source": [
    "# PPO Training "
   ]
  },
  {
   "cell_type": "code",
   "execution_count": 47,
   "id": "b768e116",
   "metadata": {},
   "outputs": [],
   "source": [
    "dataset = load_dataset(\"tatsu-lab/alpaca\", split=\"train[-1000:]\")"
   ]
  },
  {
   "cell_type": "code",
   "execution_count": 122,
   "id": "281ea01d",
   "metadata": {},
   "outputs": [
    {
     "data": {
      "text/plain": [
       "'Below is an instruction that describes a task. Write a response that appropriately completes the request.\\n\\n### Instruction:\\nCreate a list of 5 tasks a virtual assistant can help with\\n\\n### Response:\\n1. Taking notes and creating To-do lists \\n2. Setting and managing reminders \\n3. Searching the web and collecting relevant data \\n4. Scheduling and organizing events \\n5. Sending and responding to emails'"
      ]
     },
     "execution_count": 122,
     "metadata": {},
     "output_type": "execute_result"
    }
   ],
   "source": [
    "dataset['text'][0]"
   ]
  },
  {
   "cell_type": "code",
   "execution_count": 49,
   "id": "52a269e1",
   "metadata": {},
   "outputs": [
    {
     "data": {
      "application/vnd.jupyter.widget-view+json": {
       "model_id": "ef00a9bffa794eb696c4b7c4017ce4a9",
       "version_major": 2,
       "version_minor": 0
      },
      "text/plain": [
       "generation_config.json:   0%|          | 0.00/111 [00:00<?, ?B/s]"
      ]
     },
     "metadata": {},
     "output_type": "display_data"
    },
    {
     "name": "stderr",
     "output_type": "stream",
     "text": [
      "WARNING:root:A <class 'transformers.models.mistral.modeling_mistral.MistralForCausalLM'> model is loaded from 'damienbenveniste/mistral-supervised', and no v_head weight is found. This IS expected if you are not resuming PPO training.\n"
     ]
    }
   ],
   "source": [
    "from trl import AutoModelForCausalLMWithValueHead\n",
    "from transformers import AutoTokenizer\n",
    "\n",
    "model_id = 'damienbenveniste/mistral-supervised'\n",
    "\n",
    "ppo_model = AutoModelForCausalLMWithValueHead.from_pretrained(model_id)\n",
    "tokenizer = AutoTokenizer.from_pretrained(model_id)"
   ]
  },
  {
   "cell_type": "code",
   "execution_count": 52,
   "id": "7194641d",
   "metadata": {},
   "outputs": [
    {
     "data": {
      "text/plain": [
       "AutoModelForCausalLMWithValueHead(\n",
       "  (pretrained_model): MistralForCausalLM(\n",
       "    (model): MistralModel(\n",
       "      (embed_tokens): Embedding(32000, 768)\n",
       "      (layers): ModuleList(\n",
       "        (0-3): 4 x MistralDecoderLayer(\n",
       "          (self_attn): MistralSdpaAttention(\n",
       "            (q_proj): Linear(in_features=768, out_features=768, bias=False)\n",
       "            (k_proj): Linear(in_features=768, out_features=384, bias=False)\n",
       "            (v_proj): Linear(in_features=768, out_features=384, bias=False)\n",
       "            (o_proj): Linear(in_features=768, out_features=768, bias=False)\n",
       "            (rotary_emb): MistralRotaryEmbedding()\n",
       "          )\n",
       "          (mlp): MistralMLP(\n",
       "            (gate_proj): Linear(in_features=768, out_features=3072, bias=False)\n",
       "            (up_proj): Linear(in_features=768, out_features=3072, bias=False)\n",
       "            (down_proj): Linear(in_features=3072, out_features=768, bias=False)\n",
       "            (act_fn): SiLU()\n",
       "          )\n",
       "          (input_layernorm): MistralRMSNorm((768,), eps=1e-06)\n",
       "          (post_attention_layernorm): MistralRMSNorm((768,), eps=1e-06)\n",
       "        )\n",
       "      )\n",
       "      (norm): MistralRMSNorm((768,), eps=1e-06)\n",
       "    )\n",
       "    (lm_head): Linear(in_features=768, out_features=32000, bias=False)\n",
       "  )\n",
       "  (v_head): ValueHead(\n",
       "    (dropout): Dropout(p=0.1, inplace=False)\n",
       "    (summary): Linear(in_features=768, out_features=1, bias=True)\n",
       "    (flatten): Flatten(start_dim=1, end_dim=-1)\n",
       "  )\n",
       ")"
      ]
     },
     "execution_count": 52,
     "metadata": {},
     "output_type": "execute_result"
    }
   ],
   "source": [
    "ppo_model"
   ]
  },
  {
   "cell_type": "code",
   "execution_count": 67,
   "id": "ac1bd870",
   "metadata": {},
   "outputs": [
    {
     "name": "stdout",
     "output_type": "stream",
     "text": [
      "Below is an instruction that describes a task, paired with an input that provides further context. Write a response that appropriately completes the request.\n",
      "\n",
      "### Instruction:\n",
      "Given a story, (add/edit/compare/remove) an element from it.\n",
      "\n",
      "### Input:\n",
      "Once upon a time there was a little girl who loved to read books.\n"
     ]
    }
   ],
   "source": [
    "print(dataset['text'][1].split('### Response')[0].strip())"
   ]
  },
  {
   "cell_type": "code",
   "execution_count": 94,
   "id": "80f233fe",
   "metadata": {},
   "outputs": [
    {
     "data": {
      "application/vnd.jupyter.widget-view+json": {
       "model_id": "e05bdb0f78544dc3989d86991ffde3f2",
       "version_major": 2,
       "version_minor": 0
      },
      "text/plain": [
       "Map:   0%|          | 0/1000 [00:00<?, ? examples/s]"
      ]
     },
     "metadata": {},
     "output_type": "display_data"
    }
   ],
   "source": [
    "def tokenize(sample):\n",
    "    sample[\"input_ids\"] = tokenizer.encode(\n",
    "        sample[\"text\"].split('### Response')[0].strip(), \n",
    "    )\n",
    "    sample[\"prompt\"] = sample[\"text\"].split('### Response')[0].strip()\n",
    "    return sample\n",
    "\n",
    "tokenized_dataset = dataset.map(tokenize, batched=False)\n",
    "tokenized_dataset.set_format(type=\"torch\")"
   ]
  },
  {
   "cell_type": "code",
   "execution_count": 73,
   "id": "3b78152b",
   "metadata": {},
   "outputs": [
    {
     "data": {
      "text/plain": [
       "{'instruction': 'Create a list of 5 tasks a virtual assistant can help with',\n",
       " 'input': '',\n",
       " 'output': '1. Taking notes and creating To-do lists \\n2. Setting and managing reminders \\n3. Searching the web and collecting relevant data \\n4. Scheduling and organizing events \\n5. Sending and responding to emails',\n",
       " 'text': 'Below is an instruction that describes a task. Write a response that appropriately completes the request.\\n\\n### Instruction:\\nCreate a list of 5 tasks a virtual assistant can help with\\n\\n### Response:\\n1. Taking notes and creating To-do lists \\n2. Setting and managing reminders \\n3. Searching the web and collecting relevant data \\n4. Scheduling and organizing events \\n5. Sending and responding to emails',\n",
       " 'input_ids': tensor([    1, 20811,   349,   396, 13126,   369, 13966,   264,  3638, 28723,\n",
       "         12018,   264,  2899,   369,  6582,  1999,  2691,   274,   272,  2159,\n",
       "         28723,    13,    13, 27332,  3133,  3112, 28747,    13,  3998,   264,\n",
       "          1274,   302, 28705, 28782,  9796,   264,  8252, 13892,   541,  1316,\n",
       "           395]),\n",
       " 'prompt': 'Below is an instruction that describes a task. Write a response that appropriately completes the request.\\n\\n### Instruction:\\nCreate a list of 5 tasks a virtual assistant can help with'}"
      ]
     },
     "execution_count": 73,
     "metadata": {},
     "output_type": "execute_result"
    }
   ],
   "source": [
    "tokenized_dataset[0]"
   ]
  },
  {
   "cell_type": "code",
   "execution_count": 76,
   "id": "aee335c7",
   "metadata": {},
   "outputs": [],
   "source": [
    "def collator(data):    \n",
    "    return dict((key, [d[key] for d in data]) for key in data[0])"
   ]
  },
  {
   "cell_type": "code",
   "execution_count": 86,
   "id": "c4c520c2",
   "metadata": {},
   "outputs": [
    {
     "data": {
      "text/plain": [
       "{'instruction': 'Create a list of 5 tasks a virtual assistant can help with',\n",
       " 'input': '',\n",
       " 'output': '1. Taking notes and creating To-do lists \\n2. Setting and managing reminders \\n3. Searching the web and collecting relevant data \\n4. Scheduling and organizing events \\n5. Sending and responding to emails',\n",
       " 'text': 'Below is an instruction that describes a task. Write a response that appropriately completes the request.\\n\\n### Instruction:\\nCreate a list of 5 tasks a virtual assistant can help with\\n\\n### Response:\\n1. Taking notes and creating To-do lists \\n2. Setting and managing reminders \\n3. Searching the web and collecting relevant data \\n4. Scheduling and organizing events \\n5. Sending and responding to emails',\n",
       " 'input_ids': tensor([    1, 20811,   349,   396, 13126,   369, 13966,   264,  3638, 28723,\n",
       "         12018,   264,  2899,   369,  6582,  1999,  2691,   274,   272,  2159,\n",
       "         28723,    13,    13, 27332,  3133,  3112, 28747,    13,  3998,   264,\n",
       "          1274,   302, 28705, 28782,  9796,   264,  8252, 13892,   541,  1316,\n",
       "           395]),\n",
       " 'prompt': 'Below is an instruction that describes a task. Write a response that appropriately completes the request.\\n\\n### Instruction:\\nCreate a list of 5 tasks a virtual assistant can help with'}"
      ]
     },
     "execution_count": 86,
     "metadata": {},
     "output_type": "execute_result"
    }
   ],
   "source": [
    "tokenized_dataset[0]"
   ]
  },
  {
   "cell_type": "code",
   "execution_count": 80,
   "id": "4393b32c",
   "metadata": {},
   "outputs": [],
   "source": [
    "collated = collator(tokenized_dataset)"
   ]
  },
  {
   "cell_type": "code",
   "execution_count": 100,
   "id": "3b5f6a52",
   "metadata": {},
   "outputs": [
    {
     "name": "stderr",
     "output_type": "stream",
     "text": [
      "Hardware accelerator e.g. GPU is available in the environment, but no `device` argument is passed to the `Pipeline` object. Model will be on CPU.\n"
     ]
    }
   ],
   "source": [
    "from trl import PPOConfig, PPOTrainer\n",
    "from transformers import pipeline\n",
    "\n",
    "ppo_config = PPOConfig(\n",
    "    remove_unused_columns=False,\n",
    "    mini_batch_size=2,\n",
    "    batch_size=2,\n",
    ")\n",
    "\n",
    "ppo_trainer = PPOTrainer(\n",
    "    model=ppo_model,\n",
    "    config=ppo_config,\n",
    "    dataset=tokenized_dataset,\n",
    "    tokenizer=tokenizer,\n",
    "    data_collator=collator,\n",
    ")\n",
    "\n",
    "reward_pipeline = pipeline(model='damienbenveniste/mistral-reward')"
   ]
  },
  {
   "cell_type": "code",
   "execution_count": 101,
   "id": "3b956f17",
   "metadata": {},
   "outputs": [],
   "source": [
    "batch = next(iter(ppo_trainer.dataloader))"
   ]
  },
  {
   "cell_type": "code",
   "execution_count": 120,
   "id": "8f6484f2",
   "metadata": {},
   "outputs": [
    {
     "data": {
      "text/plain": [
       "[tensor([    1, 20811,   349,   396, 13126,   369, 13966,   264,  3638, 28723,\n",
       "         12018,   264,  2899,   369,  6582,  1999,  2691,   274,   272,  2159,\n",
       "         28723,    13,    13, 27332,  3133,  3112, 28747,    13,  3998,   264,\n",
       "           908,   369,  4347,  1712,  5287,   304,  5723,   272,  9932,   302,\n",
       "           706, 28723], device='mps:0'),\n",
       " tensor([    1, 20811,   349,   396, 13126,   369, 13966,   264,  3638, 28723,\n",
       "         12018,   264,  2899,   369,  6582,  1999,  2691,   274,   272,  2159,\n",
       "         28723,    13,    13, 27332,  3133,  3112, 28747,    13, 28777,   495,\n",
       "           264,  6817, 23094,   302,   272,  3340,   302,   272,  7865, 28723],\n",
       "        device='mps:0')]"
      ]
     },
     "execution_count": 120,
     "metadata": {},
     "output_type": "execute_result"
    }
   ],
   "source": [
    "batch['input_ids']"
   ]
  },
  {
   "cell_type": "code",
   "execution_count": 102,
   "id": "1a20014b",
   "metadata": {},
   "outputs": [],
   "source": [
    "query_tensors = batch['input_ids']"
   ]
  },
  {
   "cell_type": "code",
   "execution_count": 103,
   "id": "a317b903",
   "metadata": {
    "scrolled": true
   },
   "outputs": [],
   "source": [
    "response_tensors = ppo_trainer.generate(\n",
    "    query_tensors, \n",
    "    pad_token_id=tokenizer.eos_token_id,\n",
    "    return_prompt=False,\n",
    "    min_length=-1,\n",
    "    top_k=0.0,\n",
    "    top_p=1.0,\n",
    "    do_sample=True,\n",
    "    max_new_tokens=10\n",
    ")"
   ]
  },
  {
   "cell_type": "code",
   "execution_count": 104,
   "id": "964915ee",
   "metadata": {},
   "outputs": [
    {
     "data": {
      "text/plain": [
       "[tensor([ 7018, 28725,   590, 17169, 28723,  1136,   272,  1802, 10866,   302],\n",
       "        device='mps:0'),\n",
       " tensor([20681,   304,  1760,   302, 10725,   304,   334,   708,  6833, 23621],\n",
       "        device='mps:0')]"
      ]
     },
     "execution_count": 104,
     "metadata": {},
     "output_type": "execute_result"
    }
   ],
   "source": [
    "response_tensors"
   ]
  },
  {
   "cell_type": "code",
   "execution_count": 105,
   "id": "f155f2ee",
   "metadata": {},
   "outputs": [],
   "source": [
    "batch['response'] = [tokenizer.decode(r.squeeze()) for r in response_tensors]"
   ]
  },
  {
   "cell_type": "code",
   "execution_count": 106,
   "id": "6314c00f",
   "metadata": {},
   "outputs": [
    {
     "data": {
      "text/plain": [
       "['species, they.\"). As theune coverage of',\n",
       " 'Stewart and support of hero and C no brightonial']"
      ]
     },
     "execution_count": 106,
     "metadata": {},
     "output_type": "execute_result"
    }
   ],
   "source": [
    "batch['response']"
   ]
  },
  {
   "cell_type": "code",
   "execution_count": 108,
   "id": "aabd9108",
   "metadata": {},
   "outputs": [],
   "source": [
    "def get_text(instruction, response):\n",
    "    return 'Human: {} \\n\\n Assistant: {}'.format(instruction, response)"
   ]
  },
  {
   "cell_type": "code",
   "execution_count": 109,
   "id": "7afc94e4",
   "metadata": {},
   "outputs": [],
   "source": [
    "texts = [get_text(q, r) for q, r in zip(batch[\"instruction\"], batch[\"response\"])]"
   ]
  },
  {
   "cell_type": "code",
   "execution_count": 110,
   "id": "6dece0a8",
   "metadata": {},
   "outputs": [
    {
     "data": {
      "text/plain": [
       "['Human: Write an article to explain why people need to start eating healthy foods \\n\\n Assistant: species, they.\"). As theune coverage of',\n",
       " 'Human: Structure and critique a short story. \\n\\n Assistant: Stewart and support of hero and C no brightonial']"
      ]
     },
     "execution_count": 110,
     "metadata": {},
     "output_type": "execute_result"
    }
   ],
   "source": [
    "texts"
   ]
  },
  {
   "cell_type": "code",
   "execution_count": 111,
   "id": "192bcb6f",
   "metadata": {},
   "outputs": [],
   "source": [
    "outputs = reward_pipeline(texts)"
   ]
  },
  {
   "cell_type": "code",
   "execution_count": 112,
   "id": "db39e1e4",
   "metadata": {},
   "outputs": [
    {
     "data": {
      "text/plain": [
       "[{'label': 'LABEL_1', 'score': 0.5693690180778503},\n",
       " {'label': 'LABEL_1', 'score': 0.5224015712738037}]"
      ]
     },
     "execution_count": 112,
     "metadata": {},
     "output_type": "execute_result"
    }
   ],
   "source": [
    "outputs"
   ]
  },
  {
   "cell_type": "code",
   "execution_count": 113,
   "id": "485bff7d",
   "metadata": {},
   "outputs": [],
   "source": [
    "import torch\n",
    "rewards = [torch.tensor(output[\"score\"]) for output in outputs]"
   ]
  },
  {
   "cell_type": "code",
   "execution_count": 114,
   "id": "639a53d1",
   "metadata": {},
   "outputs": [
    {
     "data": {
      "text/plain": [
       "[tensor(0.5694), tensor(0.5224)]"
      ]
     },
     "execution_count": 114,
     "metadata": {},
     "output_type": "execute_result"
    }
   ],
   "source": [
    "rewards"
   ]
  },
  {
   "cell_type": "code",
   "execution_count": 115,
   "id": "4f430885",
   "metadata": {},
   "outputs": [
    {
     "name": "stderr",
     "output_type": "stream",
     "text": [
      "We detected that you are passing `past_key_values` as a tuple and this is deprecated and will be removed in v4.43. Please use an appropriate `Cache` class (https://huggingface.co/docs/transformers/v4.41.3/en/internal/generation_utils#transformers.Cache)\n"
     ]
    },
    {
     "data": {
      "text/plain": [
       "{'objective/kl': 0.0,\n",
       " 'objective/kl_dist': array([0., 0.], dtype=float32),\n",
       " 'objective/logprobs': array([[-13.745289  , -13.745289  , -13.745289  , -13.745289  ,\n",
       "         -13.745289  , -13.745289  , -13.745289  , -13.745289  ,\n",
       "         -13.745289  ,  -8.362318  , -12.250181  ,  -4.1648045 ,\n",
       "          -2.984612  , -10.074863  ,  -5.0674953 ,  -9.35855   ,\n",
       "          -2.5046992 ,  -9.629036  ,  -3.4843338 , -12.896368  ,\n",
       "         -10.659691  ,  -4.8805017 ,  -3.4744205 , -10.111923  ,\n",
       "          -4.2580366 ,  -8.370234  ,  -7.884919  ,  -8.820232  ,\n",
       "          -2.4600694 , -11.063954  ,  -3.8971233 ,  -9.30577   ,\n",
       "          -4.234071  , -12.908957  , -10.006294  , -11.856867  ,\n",
       "          -6.6308174 ,  -4.1959524 ,  -9.945444  ,  -4.214423  ,\n",
       "          -3.462892  ,  -2.0073445 , -12.529651  , -11.689817  ,\n",
       "         -10.912195  ,  -8.945691  ,  -0.1686746 , -11.486065  ,\n",
       "          -6.9285603 ,  -9.342104  ,  -3.8965287 ,  -8.444826  ,\n",
       "          -9.350177  ,  -6.862813  ,  -8.728247  ,  -2.9533052 ,\n",
       "          -8.327262  , -10.402231  , -11.956459  ,  -9.582016  ,\n",
       "          -7.9565897 ,  -6.445024  , -12.282506  , -13.531208  ,\n",
       "          -8.417383  ,  -0.06504828, -10.203657  , -10.46664   ,\n",
       "          -8.007737  ,  -2.8223855 ,  -4.840786  , -11.762459  ,\n",
       "          -3.0061462 ,  -5.447054  ,  -2.353676  ,  -9.425358  ,\n",
       "         -11.083173  ,  -2.1890502 ],\n",
       "        [-12.250181  ,  -4.1648054 ,  -2.9846106 , -10.074863  ,\n",
       "          -5.067494  ,  -9.358551  ,  -2.5046983 ,  -9.629035  ,\n",
       "          -3.484334  , -12.896369  , -10.659691  ,  -4.880502  ,\n",
       "          -3.47442   , -10.111923  ,  -4.258034  ,  -8.370234  ,\n",
       "          -7.884919  ,  -8.8202305 ,  -2.4600692 , -11.063953  ,\n",
       "          -3.897123  ,  -9.305771  ,  -4.2340727 , -12.9089575 ,\n",
       "         -10.006294  , -11.856868  ,  -6.6308184 ,  -4.1959534 ,\n",
       "          -9.945444  ,  -4.214423  ,  -3.4628923 ,  -2.0073462 ,\n",
       "         -12.529651  , -11.689817  , -10.912195  ,  -8.94569   ,\n",
       "          -0.168675  ,  -9.888768  ,  -3.3403373 , -11.437933  ,\n",
       "          -5.4172688 ,  -8.246744  ,  -8.667059  ,  -3.3605819 ,\n",
       "          -2.8417296 ,  -3.28226   , -12.564394  , -13.40798   ,\n",
       "          -8.233232  ,  -0.04572846,  -1.1050177 ,  -6.9921227 ,\n",
       "          -3.0147185 ,  -8.568303  ,  -3.1110528 ,  -1.6880192 ,\n",
       "          -8.110639  ,  -5.0466166 ,  -0.45277616, -10.807916  ,\n",
       "          -9.179246  , -13.047396  ,  -9.409828  ,  -3.3552742 ,\n",
       "         -11.964362  ,  -1.7504106 ,  -9.795464  ,  -3.9355922 ,\n",
       "         -10.538605  ,  -2.9547794 ,  -8.0582285 ,  -2.9360328 ,\n",
       "         -10.681018  ,  -2.7574031 ,  -7.156283  ,  -7.34352   ,\n",
       "          -9.269013  , -12.244526  ]], dtype=float32),\n",
       " 'objective/ref_logprobs': array([[-13.745289  , -13.745289  , -13.745289  , -13.745289  ,\n",
       "         -13.745289  , -13.745289  , -13.745289  , -13.745289  ,\n",
       "         -13.745289  ,  -8.362318  , -12.250181  ,  -4.1648045 ,\n",
       "          -2.984612  , -10.074863  ,  -5.0674953 ,  -9.35855   ,\n",
       "          -2.5046992 ,  -9.629036  ,  -3.4843338 , -12.896368  ,\n",
       "         -10.659691  ,  -4.8805017 ,  -3.4744205 , -10.111923  ,\n",
       "          -4.2580366 ,  -8.370234  ,  -7.884919  ,  -8.820232  ,\n",
       "          -2.4600694 , -11.063954  ,  -3.8971233 ,  -9.30577   ,\n",
       "          -4.234071  , -12.908957  , -10.006294  , -11.856867  ,\n",
       "          -6.6308174 ,  -4.1959524 ,  -9.945444  ,  -4.214423  ,\n",
       "          -3.462892  ,  -2.0073445 , -12.529651  , -11.689817  ,\n",
       "         -10.912195  ,  -8.945691  ,  -0.1686746 , -11.486065  ,\n",
       "          -6.9285603 ,  -9.342104  ,  -3.8965287 ,  -8.444826  ,\n",
       "          -9.350177  ,  -6.862813  ,  -8.728247  ,  -2.9533052 ,\n",
       "          -8.327262  , -10.402231  , -11.956459  ,  -9.582016  ,\n",
       "          -7.9565897 ,  -6.445024  , -12.282506  , -13.531208  ,\n",
       "          -8.417383  ,  -0.06504828, -10.203657  , -10.46664   ,\n",
       "          -8.007737  ,  -2.8223855 ,  -4.840786  , -11.762459  ,\n",
       "          -3.0061462 ,  -5.447054  ,  -2.353676  ,  -9.425358  ,\n",
       "         -11.083173  ,  -2.1890502 ],\n",
       "        [-12.250181  ,  -4.1648054 ,  -2.9846106 , -10.074863  ,\n",
       "          -5.067494  ,  -9.358551  ,  -2.5046983 ,  -9.629035  ,\n",
       "          -3.484334  , -12.896369  , -10.659691  ,  -4.880502  ,\n",
       "          -3.47442   , -10.111923  ,  -4.258034  ,  -8.370234  ,\n",
       "          -7.884919  ,  -8.8202305 ,  -2.4600692 , -11.063953  ,\n",
       "          -3.897123  ,  -9.305771  ,  -4.2340727 , -12.9089575 ,\n",
       "         -10.006294  , -11.856868  ,  -6.6308184 ,  -4.1959534 ,\n",
       "          -9.945444  ,  -4.214423  ,  -3.4628923 ,  -2.0073462 ,\n",
       "         -12.529651  , -11.689817  , -10.912195  ,  -8.94569   ,\n",
       "          -0.168675  ,  -9.888768  ,  -3.3403373 , -11.437933  ,\n",
       "          -5.4172688 ,  -8.246744  ,  -8.667059  ,  -3.3605819 ,\n",
       "          -2.8417296 ,  -3.28226   , -12.564394  , -13.40798   ,\n",
       "          -8.233232  ,  -0.04572846,  -1.1050177 ,  -6.9921227 ,\n",
       "          -3.0147185 ,  -8.568303  ,  -3.1110528 ,  -1.6880192 ,\n",
       "          -8.110639  ,  -5.0466166 ,  -0.45277616, -10.807916  ,\n",
       "          -9.179246  , -13.047396  ,  -9.409828  ,  -3.3552742 ,\n",
       "         -11.964362  ,  -1.7504106 ,  -9.795464  ,  -3.9355922 ,\n",
       "         -10.538605  ,  -2.9547794 ,  -8.0582285 ,  -2.9360328 ,\n",
       "         -10.681018  ,  -2.7574031 ,  -7.156283  ,  -7.34352   ,\n",
       "          -9.269013  , -12.244526  ]], dtype=float32),\n",
       " 'objective/kl_coef': 0.2,\n",
       " 'objective/entropy': 67.43861389160156,\n",
       " 'ppo/mean_non_score_reward': 0.0,\n",
       " 'ppo/mean_scores': 0.5458853244781494,\n",
       " 'ppo/std_scores': 0.03321100026369095,\n",
       " 'tokens/queries_len_mean': 64.0,\n",
       " 'tokens/queries_len_std': 7.071067810058594,\n",
       " 'tokens/queries_dist': array([59., 69.], dtype=float32),\n",
       " 'tokens/responses_len_mean': 10.0,\n",
       " 'tokens/responses_len_std': 0.0,\n",
       " 'tokens/responses_dist': array([10., 10.], dtype=float32),\n",
       " 'ppo/loss/policy': -0.1173533946275711,\n",
       " 'ppo/loss/value': 0.07155671715736389,\n",
       " 'ppo/loss/total': -0.11019771546125412,\n",
       " 'ppo/policy/entropy': 7.577624320983887,\n",
       " 'ppo/policy/approxkl': 0.13880962133407593,\n",
       " 'ppo/policy/policykl': 0.030440470203757286,\n",
       " 'ppo/policy/clipfrac': 0.6124999523162842,\n",
       " 'ppo/policy/advantages': array([-1.779746  , -1.7775037 , -1.7751433 , -1.7726587 , -1.7700433 ,\n",
       "        -1.7672902 , -1.7643923 , -1.7613418 , -1.7581308 , -1.7547508 ,\n",
       "        -1.7511929 , -1.7474476 , -1.7435054 , -1.7393556 , -1.7349875 ,\n",
       "        -1.7303894 , -1.7255493 , -1.7204543 , -1.7150915 , -1.7094462 ,\n",
       "        -1.7035038 , -1.6972487 , -1.6906643 , -1.6837335 , -1.6764379 ,\n",
       "        -1.6687582 , -1.6606743 , -1.6521649 , -1.6432079 , -1.6337793 ,\n",
       "        -1.6238544 , -1.6134073 , -1.6024102 , -1.5908343 , -1.5786493 ,\n",
       "        -1.5658227 , -1.5523212 , -1.5381092 , -1.523149  , -1.5074016 ,\n",
       "        -1.4908253 , -1.4733765 , -1.4550095 , -1.4356759 , -1.4153244 ,\n",
       "        -1.393902  , -1.371352  , -1.3476152 , -1.3226291 , -1.296328  ,\n",
       "        -1.2686424 , -1.2394999 , -1.2088234 , -1.1765325 , -1.1425422 ,\n",
       "        -1.1067626 , -1.0691001 , -1.0294553 , -0.98772395, -0.9437962 ,\n",
       "        -0.8975565 , -0.84888303, -0.7976479 , -0.7437162 , -0.68694586,\n",
       "        -0.6271877 , -0.56428444, -0.49807036, -0.74593484, -0.7800783 ,\n",
       "        -1.0953605 ,  0.426044  , -0.8577399 , -0.5275134 , -0.5951611 ,\n",
       "         2.3096461 ,  1.346623  ,  1.5297827 , -1.7698835 , -1.767122  ,\n",
       "        -1.7642154 , -1.7611555 , -1.7579347 , -1.7545444 , -1.7509755 ,\n",
       "        -1.7472188 , -1.7432647 , -1.7391022 , -1.7347206 , -1.7301085 ,\n",
       "        -1.7252537 , -1.7201432 , -1.7147639 , -1.7091013 , -1.7031409 ,\n",
       "        -1.6968666 , -1.6902622 , -1.6833102 , -1.6759923 , -1.6682891 ,\n",
       "        -1.6601806 , -1.6516453 , -1.6426609 , -1.6332034 , -1.6232482 ,\n",
       "        -1.6127691 , -1.6017385 , -1.5901273 , -1.5779049 , -1.5650394 ,\n",
       "        -1.5514966 , -1.5372411 , -1.5222353 , -1.5064398 , -1.4898129 ,\n",
       "        -1.4723108 , -1.4538876 , -1.4344949 , -1.4140812 , -1.3925934 ,\n",
       "        -1.3699745 , -1.3461653 , -1.3211029 , -1.2947214 , -1.2669513 ,\n",
       "        -1.2377198 , -1.2069496 , -1.1745601 , -1.1404657 , -1.104577  ,\n",
       "        -1.0667995 , -1.0270336 , -0.9851747 , -0.9411128 , -0.8947318 ,\n",
       "        -0.8459097 , -0.7945181 , -0.74042165, -0.68347794, -0.62353724,\n",
       "        -0.56044173, -0.49402538, -0.4241135 , -0.35052207, -0.2730574 ,\n",
       "        -0.19151568, -1.0059386 , -1.5300819 , -0.1461924 ,  0.19424832,\n",
       "         0.00526185, -0.04101447,  0.24277672,  0.9652991 ,  0.9096979 ,\n",
       "        -0.6043649 , -1.7698835 , -1.767122  , -1.7642154 , -1.7611555 ,\n",
       "        -1.7579347 , -1.7545444 , -1.7509755 , -1.7472188 , -1.7432647 ,\n",
       "        -1.7391022 , -1.7347206 , -1.7301085 , -1.7252537 , -1.7201432 ,\n",
       "        -1.7147639 , -1.7091013 , -1.7031409 , -1.6968666 , -1.6902622 ,\n",
       "        -1.6833102 , -1.6759923 , -1.6682891 , -1.6601806 , -1.6516453 ,\n",
       "        -1.6426609 , -1.6332034 , -1.6232482 , -1.6127691 , -1.6017385 ,\n",
       "        -1.5901273 , -1.5779049 , -1.5650394 , -1.5514966 , -1.5372411 ,\n",
       "        -1.5222353 , -1.5064398 , -1.4898129 , -1.4723108 , -1.4538876 ,\n",
       "        -1.4344949 , -1.4140812 , -1.3925934 , -1.3699745 , -1.3461653 ,\n",
       "        -1.3211029 , -1.2947214 , -1.2669513 , -1.2377198 , -1.2069496 ,\n",
       "        -1.1745601 , -1.1404657 , -1.104577  , -1.0667995 , -1.0270336 ,\n",
       "        -0.9851747 , -0.9411128 , -0.8947318 , -0.8459097 , -0.7945181 ,\n",
       "        -0.74042165, -0.68347794, -0.62353724, -0.56044173, -0.49402538,\n",
       "        -0.4241135 , -0.35052207, -0.2730574 , -0.19151568, -1.0059386 ,\n",
       "        -1.5300819 , -0.1461924 ,  0.19424832,  0.00526185, -0.04101447,\n",
       "         0.24277672,  0.9652991 ,  0.9096979 , -0.6043649 , -1.779746  ,\n",
       "        -1.7775037 , -1.7751433 , -1.7726587 , -1.7700433 , -1.7672902 ,\n",
       "        -1.7643923 , -1.7613418 , -1.7581308 , -1.7547508 , -1.7511929 ,\n",
       "        -1.7474476 , -1.7435054 , -1.7393556 , -1.7349875 , -1.7303894 ,\n",
       "        -1.7255493 , -1.7204543 , -1.7150915 , -1.7094462 , -1.7035038 ,\n",
       "        -1.6972487 , -1.6906643 , -1.6837335 , -1.6764379 , -1.6687582 ,\n",
       "        -1.6606743 , -1.6521649 , -1.6432079 , -1.6337793 , -1.6238544 ,\n",
       "        -1.6134073 , -1.6024102 , -1.5908343 , -1.5786493 , -1.5658227 ,\n",
       "        -1.5523212 , -1.5381092 , -1.523149  , -1.5074016 , -1.4908253 ,\n",
       "        -1.4733765 , -1.4550095 , -1.4356759 , -1.4153244 , -1.393902  ,\n",
       "        -1.371352  , -1.3476152 , -1.3226291 , -1.296328  , -1.2686424 ,\n",
       "        -1.2394999 , -1.2088234 , -1.1765325 , -1.1425422 , -1.1067626 ,\n",
       "        -1.0691001 , -1.0294553 , -0.98772395, -0.9437962 , -0.8975565 ,\n",
       "        -0.84888303, -0.7976479 , -0.7437162 , -0.68694586, -0.6271877 ,\n",
       "        -0.56428444, -0.49807036, -0.74593484, -0.7800783 , -1.0953605 ,\n",
       "         0.426044  , -0.8577399 , -0.5275134 , -0.5951611 ,  2.3096461 ,\n",
       "         1.346623  ,  1.5297827 , -1.7698835 , -1.767122  , -1.7642154 ,\n",
       "        -1.7611555 , -1.7579347 , -1.7545444 , -1.7509755 , -1.7472188 ,\n",
       "        -1.7432647 , -1.7391022 , -1.7347206 , -1.7301085 , -1.7252537 ,\n",
       "        -1.7201432 , -1.7147639 , -1.7091013 , -1.7031409 , -1.6968666 ,\n",
       "        -1.6902622 , -1.6833102 , -1.6759923 , -1.6682891 , -1.6601806 ,\n",
       "        -1.6516453 , -1.6426609 , -1.6332034 , -1.6232482 , -1.6127691 ,\n",
       "        -1.6017385 , -1.5901273 , -1.5779049 , -1.5650394 , -1.5514966 ,\n",
       "        -1.5372411 , -1.5222353 , -1.5064398 , -1.4898129 , -1.4723108 ,\n",
       "        -1.4538876 , -1.4344949 , -1.4140812 , -1.3925934 , -1.3699745 ,\n",
       "        -1.3461653 , -1.3211029 , -1.2947214 , -1.2669513 , -1.2377198 ,\n",
       "        -1.2069496 , -1.1745601 , -1.1404657 , -1.104577  , -1.0667995 ,\n",
       "        -1.0270336 , -0.9851747 , -0.9411128 , -0.8947318 , -0.8459097 ,\n",
       "        -0.7945181 , -0.74042165, -0.68347794, -0.62353724, -0.56044173,\n",
       "        -0.49402538, -0.4241135 , -0.35052207, -0.2730574 , -0.19151568,\n",
       "        -1.0059386 , -1.5300819 , -0.1461924 ,  0.19424832,  0.00526185,\n",
       "        -0.04101447,  0.24277672,  0.9652991 ,  0.9096979 , -0.6043649 ,\n",
       "        -1.779746  , -1.7775037 , -1.7751433 , -1.7726587 , -1.7700433 ,\n",
       "        -1.7672902 , -1.7643923 , -1.7613418 , -1.7581308 , -1.7547508 ,\n",
       "        -1.7511929 , -1.7474476 , -1.7435054 , -1.7393556 , -1.7349875 ,\n",
       "        -1.7303894 , -1.7255493 , -1.7204543 , -1.7150915 , -1.7094462 ,\n",
       "        -1.7035038 , -1.6972487 , -1.6906643 , -1.6837335 , -1.6764379 ,\n",
       "        -1.6687582 , -1.6606743 , -1.6521649 , -1.6432079 , -1.6337793 ,\n",
       "        -1.6238544 , -1.6134073 , -1.6024102 , -1.5908343 , -1.5786493 ,\n",
       "        -1.5658227 , -1.5523212 , -1.5381092 , -1.523149  , -1.5074016 ,\n",
       "        -1.4908253 , -1.4733765 , -1.4550095 , -1.4356759 , -1.4153244 ,\n",
       "        -1.393902  , -1.371352  , -1.3476152 , -1.3226291 , -1.296328  ,\n",
       "        -1.2686424 , -1.2394999 , -1.2088234 , -1.1765325 , -1.1425422 ,\n",
       "        -1.1067626 , -1.0691001 , -1.0294553 , -0.98772395, -0.9437962 ,\n",
       "        -0.8975565 , -0.84888303, -0.7976479 , -0.7437162 , -0.68694586,\n",
       "        -0.6271877 , -0.56428444, -0.49807036, -0.74593484, -0.7800783 ,\n",
       "        -1.0953605 ,  0.426044  , -0.8577399 , -0.5275134 , -0.5951611 ,\n",
       "         2.3096461 ,  1.346623  ,  1.5297827 , -1.779746  , -1.7775037 ,\n",
       "        -1.7751433 , -1.7726587 , -1.7700433 , -1.7672902 , -1.7643923 ,\n",
       "        -1.7613418 , -1.7581308 , -1.7547508 , -1.7511929 , -1.7474476 ,\n",
       "        -1.7435054 , -1.7393556 , -1.7349875 , -1.7303894 , -1.7255493 ,\n",
       "        -1.7204543 , -1.7150915 , -1.7094462 , -1.7035038 , -1.6972487 ,\n",
       "        -1.6906643 , -1.6837335 , -1.6764379 , -1.6687582 , -1.6606743 ,\n",
       "        -1.6521649 , -1.6432079 , -1.6337793 , -1.6238544 , -1.6134073 ,\n",
       "        -1.6024102 , -1.5908343 , -1.5786493 , -1.5658227 , -1.5523212 ,\n",
       "        -1.5381092 , -1.523149  , -1.5074016 , -1.4908253 , -1.4733765 ,\n",
       "        -1.4550095 , -1.4356759 , -1.4153244 , -1.393902  , -1.371352  ,\n",
       "        -1.3476152 , -1.3226291 , -1.296328  , -1.2686424 , -1.2394999 ,\n",
       "        -1.2088234 , -1.1765325 , -1.1425422 , -1.1067626 , -1.0691001 ,\n",
       "        -1.0294553 , -0.98772395, -0.9437962 , -0.8975565 , -0.84888303,\n",
       "        -0.7976479 , -0.7437162 , -0.68694586, -0.6271877 , -0.56428444,\n",
       "        -0.49807036, -0.74593484, -0.7800783 , -1.0953605 ,  0.426044  ,\n",
       "        -0.8577399 , -0.5275134 , -0.5951611 ,  2.3096461 ,  1.346623  ,\n",
       "         1.5297827 , -1.7698835 , -1.767122  , -1.7642154 , -1.7611555 ,\n",
       "        -1.7579347 , -1.7545444 , -1.7509755 , -1.7472188 , -1.7432647 ,\n",
       "        -1.7391022 , -1.7347206 , -1.7301085 , -1.7252537 , -1.7201432 ,\n",
       "        -1.7147639 , -1.7091013 , -1.7031409 , -1.6968666 , -1.6902622 ,\n",
       "        -1.6833102 , -1.6759923 , -1.6682891 , -1.6601806 , -1.6516453 ,\n",
       "        -1.6426609 , -1.6332034 , -1.6232482 , -1.6127691 , -1.6017385 ,\n",
       "        -1.5901273 , -1.5779049 , -1.5650394 , -1.5514966 , -1.5372411 ,\n",
       "        -1.5222353 , -1.5064398 , -1.4898129 , -1.4723108 , -1.4538876 ,\n",
       "        -1.4344949 , -1.4140812 , -1.3925934 , -1.3699745 , -1.3461653 ,\n",
       "        -1.3211029 , -1.2947214 , -1.2669513 , -1.2377198 , -1.2069496 ,\n",
       "        -1.1745601 , -1.1404657 , -1.104577  , -1.0667995 , -1.0270336 ,\n",
       "        -0.9851747 , -0.9411128 , -0.8947318 , -0.8459097 , -0.7945181 ,\n",
       "        -0.74042165, -0.68347794, -0.62353724, -0.56044173, -0.49402538,\n",
       "        -0.4241135 , -0.35052207, -0.2730574 , -0.19151568, -1.0059386 ,\n",
       "        -1.5300819 , -0.1461924 ,  0.19424832,  0.00526185, -0.04101447,\n",
       "         0.24277672,  0.9652991 ,  0.9096979 , -0.6043649 ], dtype=float32),\n",
       " 'ppo/policy/advantages_mean': -3.5762788286319847e-08,\n",
       " 'ppo/policy/ratio': array([1.        , 1.        , 1.        , 1.        , 1.        ,\n",
       "        1.        , 1.        , 1.        , 1.        , 1.        ,\n",
       "        1.        , 1.        , 1.        , 1.        , 1.        ,\n",
       "        1.        , 1.        , 1.        , 1.        , 1.        ,\n",
       "        1.        , 1.        , 1.        , 1.        , 1.        ,\n",
       "        1.        , 1.        , 1.        , 1.        , 1.        ,\n",
       "        1.        , 1.        , 1.        , 1.        , 1.        ,\n",
       "        1.        , 1.        , 1.        , 1.        , 1.        ,\n",
       "        1.        , 1.        , 1.        , 1.        , 1.        ,\n",
       "        1.        , 1.        , 1.        , 1.        , 1.        ,\n",
       "        1.        , 1.        , 1.        , 1.        , 1.        ,\n",
       "        1.        , 1.        , 1.        , 1.        , 1.        ,\n",
       "        1.        , 1.        , 1.        , 1.        , 1.        ,\n",
       "        1.        , 1.        , 1.        , 1.        , 1.        ,\n",
       "        1.        , 1.        , 1.        , 1.        , 1.        ,\n",
       "        1.        , 1.        , 1.        , 1.        , 1.        ,\n",
       "        1.        , 1.        , 1.        , 1.        , 1.        ,\n",
       "        1.        , 1.        , 1.        , 1.        , 1.        ,\n",
       "        1.        , 1.        , 1.        , 1.        , 1.        ,\n",
       "        1.        , 1.        , 1.        , 1.        , 1.        ,\n",
       "        1.        , 1.        , 1.        , 1.        , 1.        ,\n",
       "        1.        , 1.        , 1.        , 1.        , 1.        ,\n",
       "        1.        , 1.        , 1.        , 1.        , 1.        ,\n",
       "        1.        , 1.        , 1.        , 1.        , 1.        ,\n",
       "        1.        , 1.        , 1.        , 1.        , 1.        ,\n",
       "        1.        , 1.        , 1.        , 1.        , 1.        ,\n",
       "        1.        , 1.        , 1.        , 1.        , 1.        ,\n",
       "        1.        , 1.        , 1.        , 1.        , 1.        ,\n",
       "        1.        , 1.        , 1.        , 1.        , 1.        ,\n",
       "        1.        , 1.        , 1.        , 1.        , 1.        ,\n",
       "        1.        , 1.        , 1.        , 1.        , 1.        ,\n",
       "        1.        , 1.1762716 , 1.1762716 , 1.1762716 , 1.1762716 ,\n",
       "        1.1762716 , 1.1762716 , 1.1762716 , 1.1762716 , 1.1762716 ,\n",
       "        1.0223172 , 1.0194918 , 1.006054  , 0.9999277 , 0.99844295,\n",
       "        0.92578065, 1.0094717 , 1.0203125 , 0.9956132 , 0.8063698 ,\n",
       "        1.0744622 , 1.0989242 , 1.0379332 , 0.9987505 , 1.0331002 ,\n",
       "        0.92011446, 0.99845433, 1.0127014 , 1.067804  , 0.93798786,\n",
       "        1.0053654 , 1.0556902 , 0.99100083, 0.9508297 , 1.0669825 ,\n",
       "        1.0904441 , 1.05474   , 1.0000458 , 1.0357025 , 1.0478091 ,\n",
       "        0.8691482 , 0.9585632 , 0.95928407, 1.0363685 , 1.0711228 ,\n",
       "        0.99972343, 0.94988847, 0.9818714 , 1.0303864 , 1.0550789 ,\n",
       "        0.982986  , 0.8766766 , 0.9984696 , 0.9801898 , 0.9761682 ,\n",
       "        1.1611426 , 0.92927974, 1.0036248 , 1.1102039 , 1.1429391 ,\n",
       "        1.1161915 , 0.9321132 , 0.9681995 , 1.0235767 , 1.0803239 ,\n",
       "        0.96834993, 0.9956484 , 0.99040085, 1.0645939 , 0.6457138 ,\n",
       "        0.5075652 , 0.9122613 , 1.1891794 , 0.858716  , 0.9763377 ,\n",
       "        1.0703026 , 1.4688132 , 1.3659062 , 0.8740136 , 1.0194918 ,\n",
       "        1.006056  , 0.99992657, 0.99844   , 0.92577845, 1.0094726 ,\n",
       "        1.020312  , 0.9956132 , 0.8063702 , 1.0744631 , 1.0989242 ,\n",
       "        1.0379343 , 0.9987491 , 1.0331002 , 0.9201118 , 0.99845433,\n",
       "        1.0127028 , 1.067802  , 0.9379877 , 1.0053635 , 1.0556899 ,\n",
       "        0.99100184, 0.95083064, 1.0669814 , 1.0904441 , 1.0547389 ,\n",
       "        1.0000477 , 1.0357025 , 1.047808  , 0.86914945, 0.9585621 ,\n",
       "        0.95928615, 1.0363715 , 1.0711238 , 0.9997215 , 0.9498867 ,\n",
       "        0.9818714 , 1.0258439 , 0.73105854, 1.036929  , 1.084044  ,\n",
       "        1.0375829 , 1.0367036 , 0.83191496, 0.9758964 , 0.9657755 ,\n",
       "        1.0295819 , 1.0637141 , 0.95322526, 0.9969025 , 1.0040437 ,\n",
       "        0.9583827 , 0.7706642 , 0.9566805 , 0.9301835 , 1.0439086 ,\n",
       "        0.984044  , 0.9906054 , 1.0034078 , 1.0893828 , 0.9587648 ,\n",
       "        1.1019908 , 1.113988  , 0.72604024, 1.0262529 , 0.90386933,\n",
       "        0.9829438 , 0.8352899 , 0.7640878 , 0.69976777, 0.7444151 ,\n",
       "        1.177116  , 0.7727769 , 0.7181281 , 0.7973661 , 2.152328  ,\n",
       "        1.507483  , 1.6690342 , 1.3362287 , 1.3362287 , 1.3362287 ,\n",
       "        1.3362287 , 1.3362287 , 1.3362287 , 1.3362287 , 1.3362287 ,\n",
       "        1.3362287 , 1.027137  , 1.0292021 , 1.0188454 , 1.0047144 ,\n",
       "        1.0004331 , 0.87227994, 1.0106902 , 1.0221267 , 0.99015534,\n",
       "        0.71000195, 1.1304673 , 1.1624955 , 1.0629581 , 0.9897879 ,\n",
       "        1.0504445 , 0.86313075, 0.98339856, 1.0232321 , 1.1110364 ,\n",
       "        0.89174616, 1.0139418 , 1.0699965 , 0.9777102 , 0.9089322 ,\n",
       "        1.1073637 , 1.1438583 , 1.0850116 , 0.99427813, 1.0681167 ,\n",
       "        1.0861732 , 0.7898243 , 0.9308373 , 0.9291783 , 1.0648986 ,\n",
       "        1.1123754 , 1.0126593 , 0.9180516 , 0.9641088 , 1.0500479 ,\n",
       "        1.0803255 , 0.97815406, 0.7852223 , 0.9947685 , 0.9629149 ,\n",
       "        0.9562463 , 1.2669765 , 0.85625225, 0.9923986 , 1.1839877 ,\n",
       "        1.2490884 , 1.204838  , 0.8880242 , 0.94657826, 1.0451096 ,\n",
       "        1.1228033 , 0.9288919 , 0.99112135, 0.99271864, 1.0999917 ,\n",
       "        0.48996848, 0.3289086 , 0.78917   , 1.5143548 , 0.7565727 ,\n",
       "        0.9326743 , 1.2363019 , 1.8828466 , 1.6405607 , 0.6498143 ,\n",
       "        1.0292021 , 1.018845  , 1.0047125 , 1.0004331 , 0.87228084,\n",
       "        1.0106912 , 1.0221225 , 0.9901544 , 0.71000075, 1.1304684 ,\n",
       "        1.1624943 , 1.0629581 , 0.9897855 , 1.0504435 , 0.8631291 ,\n",
       "        0.98339856, 1.0232321 , 1.1110333 , 0.89174575, 1.0139399 ,\n",
       "        1.0699977 , 0.9777111 , 0.90893304, 1.1073647 , 1.1438594 ,\n",
       "        1.0850127 , 0.9942791 , 1.0681177 , 1.0861732 , 0.7898243 ,\n",
       "        0.93083864, 0.9291794 , 1.0648975 , 1.1123766 , 1.0126604 ,\n",
       "        0.9180507 , 0.96410865, 1.0453478 , 0.5898034 , 1.0627731 ,\n",
       "        1.1152908 , 1.0697438 , 1.0582764 , 0.73840827, 0.9580959 ,\n",
       "        0.94078994, 1.053194  , 1.0852464 , 0.9188346 , 0.9939157 ,\n",
       "        1.0066793 , 0.93257153, 0.635129  , 0.9364693 , 0.8774622 ,\n",
       "        1.1077255 , 0.96942914, 0.9700655 , 1.0000911 , 1.1407775 ,\n",
       "        0.936547  , 1.1561514 , 1.1793469 , 0.5997966 , 1.0520254 ,\n",
       "        0.8382486 , 0.96662456, 0.73871815, 0.64444155, 0.5426195 ,\n",
       "        0.6206081 , 1.6108079 , 0.6540553 , 0.5673979 , 0.69562566,\n",
       "        3.4286587 , 1.9338919 , 2.2455907 , 1.0375532 , 1.0267164 ,\n",
       "        1.0078691 , 1.0032784 , 0.8320913 , 1.0124228 , 1.018064  ,\n",
       "        0.9873783 , 0.64167833, 1.176782  , 1.2138963 , 1.078415  ,\n",
       "        0.9806802 , 1.063356  , 0.8198377 , 0.9725164 , 1.0280097 ,\n",
       "        1.1424421 , 0.8535947 , 1.0230701 , 1.0759832 , 0.9683278 ,\n",
       "        0.87374693, 1.1407949 , 1.184576  , 1.1087998 , 0.9861564 ,\n",
       "        1.089386  , 1.116036  , 0.7333162 , 0.9075254 , 0.9071539 ,\n",
       "        1.0891771 , 1.1443689 , 1.0213904 , 0.8925947 , 0.9470014 ,\n",
       "        1.0615839 , 0.49682486, 1.082752  , 1.1366688 , 1.0935141 ,\n",
       "        1.0717083 , 0.67088425, 0.94235796, 0.92257386, 1.0732567 ,\n",
       "        1.1044717 , 0.88813853, 0.99103147, 1.0074434 , 0.91136956,\n",
       "        0.54222596, 0.92019826, 0.8297307 , 1.1574643 , 0.95767003,\n",
       "        0.9504249 , 0.99575037, 1.1814904 , 0.91912735, 1.2003869 ,\n",
       "        1.22877   , 0.5150213 , 1.0727115 , 0.7855328 , 0.95562184,\n",
       "        0.6724223 , 0.5659443 , 0.44350946, 0.5395244 , 2.0145826 ,\n",
       "        0.5753102 , 0.4702602 , 0.6265618 , 4.8030086 , 2.3311243 ,\n",
       "        2.8113203 , 1.4729527 , 1.4729527 , 1.4729527 , 1.4729527 ,\n",
       "        1.4729527 , 1.4729527 , 1.4729527 , 1.4729527 , 1.4729527 ,\n",
       "        1.0251709 , 1.0375532 , 1.0267149 , 1.0078706 , 1.0032784 ,\n",
       "        0.8320921 , 1.0124218 , 1.0180656 , 0.98737925, 0.6416791 ,\n",
       "        1.1767808 , 1.2138952 , 1.0784146 , 0.98068064, 1.0633581 ,\n",
       "        0.8198404 , 0.9725156 , 1.0280082 , 1.1424443 , 0.85359496,\n",
       "        1.0230712 , 1.0759829 , 0.96832687, 0.87374616, 1.1407961 ,\n",
       "        1.184576  , 1.1087987 , 0.9861549 , 1.0893844 , 1.116036  ,\n",
       "        0.7333162 , 0.90752774, 0.9071533 , 1.0891762 , 1.1443689 ,\n",
       "        1.0213904 , 0.8925956 , 0.9470011 , 1.0656971 , 1.0983161 ,\n",
       "        0.9733738 , 0.71968764, 0.9912551 , 0.94984776, 0.9386724 ,\n",
       "        1.351303  , 0.79803383, 0.98372877, 1.2418762 , 1.3347702 ,\n",
       "        1.2717885 , 0.8542114 , 0.9309583 , 1.0632658 , 1.15746   ,\n",
       "        0.8919335 , 0.9865819 , 0.9943076 , 1.1264058 , 0.39728233,\n",
       "        0.2331245 , 0.703857  , 1.8265387 , 0.68371415, 0.8726835 ,\n",
       "        1.3747542 , 2.2797725 , 1.8863857 , 0.50322807], dtype=float32),\n",
       " 'ppo/returns/mean': 0.43047085404396057,\n",
       " 'ppo/returns/var': 0.00580486748367548,\n",
       " 'ppo/val/vpred': 0.23087453842163086,\n",
       " 'ppo/val/error': 0.10983055084943771,\n",
       " 'ppo/val/clipfrac': 0.3375000059604645,\n",
       " 'ppo/val/mean': 0.014018158428370953,\n",
       " 'ppo/val/var': 0.03780301660299301,\n",
       " 'ppo/val/var_explained': -17.92042350769043,\n",
       " 'ppo/learning_rate': 1.41e-05,\n",
       " 'time/ppo/forward_pass': 4.329437017440796,\n",
       " 'time/ppo/compute_rewards': 0.32361483573913574,\n",
       " 'time/ppo/compute_advantages': 1.0750129222869873,\n",
       " 'time/ppo/optimize_step': 4.114082098007202,\n",
       " 'time/ppo/calc_stats': 0.7999279499053955,\n",
       " 'time/ppo/total': 10.642222166061401}"
      ]
     },
     "execution_count": 115,
     "metadata": {},
     "output_type": "execute_result"
    }
   ],
   "source": [
    "ppo_trainer.step(\n",
    "    query_tensors, \n",
    "    response_tensors, \n",
    "    rewards\n",
    ")  "
   ]
  },
  {
   "cell_type": "code",
   "execution_count": 118,
   "id": "5ed8a53d",
   "metadata": {},
   "outputs": [],
   "source": [
    "epochs = 1\n",
    "for epoch in range(epochs):\n",
    "    for batch in ppo_trainer.dataloader: \n",
    "        query_tensors = batch[\"input_ids\"]    \n",
    "        \n",
    "        #### Get response from SFTModel\n",
    "        response_tensors = ppo_trainer.generate(\n",
    "            query_tensors, \n",
    "            pad_token_id=tokenizer.eos_token_id,\n",
    "            return_prompt=False,\n",
    "            min_length=-1,\n",
    "            top_k=0.0,\n",
    "            top_p=1.0,\n",
    "            do_sample=True,\n",
    "            max_new_tokens=10\n",
    "        )\n",
    "        batch[\"response\"] = [tokenizer.decode(r.squeeze()) for r in response_tensors]\n",
    "    \n",
    "        #### Compute reward score\n",
    "        texts = [get_text(q, r) for q, r in zip(batch[\"instruction\"], batch[\"response\"])]\n",
    "        outputs = reward_pipeline(texts)\n",
    "        rewards = [torch.tensor(output[\"score\"]) for output in outputs]\n",
    "    \n",
    "        #### Run PPO step\n",
    "        ppo_trainer.step(\n",
    "            query_tensors, \n",
    "            response_tensors, \n",
    "            rewards\n",
    "        ) \n",
    "        # break    "
   ]
  },
  {
   "cell_type": "code",
   "execution_count": 119,
   "id": "93670aee",
   "metadata": {},
   "outputs": [
    {
     "data": {
      "application/vnd.jupyter.widget-view+json": {
       "model_id": "3f38a6c28a9a4054acdb04698c06036c",
       "version_major": 2,
       "version_minor": 0
      },
      "text/plain": [
       "model.safetensors:   0%|          | 0.00/338M [00:00<?, ?B/s]"
      ]
     },
     "metadata": {},
     "output_type": "display_data"
    },
    {
     "data": {
      "text/plain": [
       "CommitInfo(commit_url='https://huggingface.co/damienbenveniste/mistral-ppo/commit/8fff520d9de6604bd43567fac102a3e5c33c04f3', commit_message='Push model using huggingface_hub.', commit_description='', oid='8fff520d9de6604bd43567fac102a3e5c33c04f3', pr_url=None, pr_revision=None, pr_num=None)"
      ]
     },
     "execution_count": 119,
     "metadata": {},
     "output_type": "execute_result"
    }
   ],
   "source": [
    "ppo_trainer.push_to_hub('mistral-ppo')"
   ]
  },
  {
   "cell_type": "code",
   "execution_count": null,
   "id": "6aa9bb4f",
   "metadata": {},
   "outputs": [],
   "source": []
  }
 ],
 "metadata": {
  "kernelspec": {
   "display_name": "Python 3 (ipykernel)",
   "language": "python",
   "name": "python3"
  },
  "language_info": {
   "codemirror_mode": {
    "name": "ipython",
    "version": 3
   },
   "file_extension": ".py",
   "mimetype": "text/x-python",
   "name": "python",
   "nbconvert_exporter": "python",
   "pygments_lexer": "ipython3",
   "version": "3.12.5"
  }
 },
 "nbformat": 4,
 "nbformat_minor": 5
}
